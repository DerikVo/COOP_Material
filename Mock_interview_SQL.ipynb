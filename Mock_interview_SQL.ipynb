{
  "nbformat": 4,
  "nbformat_minor": 0,
  "metadata": {
    "colab": {
      "provenance": [],
      "collapsed_sections": [
        "AFAl3MVsrscm"
      ],
      "authorship_tag": "ABX9TyMo9Kgc9o6WL6Jst3W3/XUe",
      "include_colab_link": true
    },
    "kernelspec": {
      "name": "python3",
      "display_name": "Python 3"
    },
    "language_info": {
      "name": "python"
    }
  },
  "cells": [
    {
      "cell_type": "markdown",
      "metadata": {
        "id": "view-in-github",
        "colab_type": "text"
      },
      "source": [
        "<a href=\"https://colab.research.google.com/github/DerikVo/COOP_Teaching_Material/blob/main/Mock_interview_SQL.ipynb\" target=\"_parent\"><img src=\"https://colab.research.google.com/assets/colab-badge.svg\" alt=\"Open In Colab\"/></a>"
      ]
    },
    {
      "cell_type": "markdown",
      "source": [
        "# Notes\n",
        "If there are any questions Please contact \"[Derik Vo](https://www.linkedin.com/in/derik-vo/)\" on slack or LinkedIn\n",
        "\n",
        "Ideally this should be ran in a `Google Colab` for ease of access\n",
        "\n",
        "**Last Updated: April 15, 2024**\n",
        "\n",
        "=======================================\n",
        "\n",
        "This notebook is intended to be used for mock interviews on SQL knowledge. This should cover knowledge of basic quering, joins, aliasing, and more advanced skills such as CTE, subquries, and case statements depending on the interviewer."
      ],
      "metadata": {
        "id": "OoTCuVxuuSer"
      }
    },
    {
      "cell_type": "markdown",
      "source": [
        "# Run this\n",
        "\n",
        "Run this block first to set up \"Database\"\n",
        "\n",
        "\n"
      ],
      "metadata": {
        "id": "AFAl3MVsrscm"
      }
    },
    {
      "cell_type": "code",
      "execution_count": null,
      "metadata": {
        "id": "Ipz7QOpilJU5"
      },
      "outputs": [],
      "source": [
        "# Run this to set up the \"DataBase\"\n",
        "import importlib\n",
        "\n",
        "# Check if faker package is installed\n",
        "if importlib.util.find_spec(\"faker\") is None:\n",
        "    !pip install faker\n",
        "\n",
        "# Check if pandasql package is installed\n",
        "if importlib.util.find_spec(\"pandasql\") is None:\n",
        "    !pip install pandasql\n",
        "\n",
        "import pandas as pd\n",
        "#Used to generate fake names\n",
        "from faker import Faker\n",
        "import random\n",
        "#Attemped to Use this for a consistent database, but its not working as intended.\n",
        "random.seed(431)\n",
        "from pandasql import sqldf\n",
        "# Initialize Faker to generate fake data\n",
        "fake = Faker()\n",
        "\n",
        "# List of grocery products, Can be expanded on if needed\n",
        "grocery_products = [\n",
        "    \"milk\", \"bread\", \"eggs\", \"cheese\", \"yogurt\", \"apples\", \"bananas\", \"oranges\",\n",
        "    \"lettuce\", \"tomatoes\", \"carrots\", \"rice\", \"pasta\", \"cereal\", \"peanut butter\",\n",
        "    \"jam\", \"frozen vegetables\", \"frozen pizza\", \"chicken breasts\", \"ground beef\",\n",
        "    \"fish fillets\", \"chips\", \"crackers\", \"cookies\"\n",
        "]\n",
        "# Generates fake customer names and IDs\n",
        "customer_data = {\n",
        "    'CustomerId': range(1, 10001),\n",
        "    'CustomerName': [fake.name() for _ in range(10000)]\n",
        "}\n",
        "\n",
        "# Create DataFrame for customer names\n",
        "customers = pd.DataFrame(customer_data)\n",
        "\n",
        "# Generate fake sales data\n",
        "\n",
        "\"\"\"\n",
        "OrderId has a potential for errors this is intended\n",
        "COOPers can check for duplicate values as a form data quality checking\n",
        "\"\"\"\n",
        "data = {\n",
        "    # Duplicates means an error, interviewees will need to check for duplicates\n",
        "    'OrderID': [fake.random_int(min=1, max=9999) for _ in range(10000)],\n",
        "    #Duplicates means multiple purchases will have to check other fields for quality check\n",
        "    'CustomerID': [random.randint(1, 10000) for _ in range(10000)],\n",
        "    'ProductNumber': [fake.random_int(min=1, max=25) for _ in range(10000)],\n",
        "    'Quantity': [fake.random_int(min=1, max=10) for _ in range(10000)],\n",
        "    #Price will remain here to act as a slow changing dimensinon\n",
        "    'Price': [round(random.uniform(1, 10), 2) for _ in range(1, len(grocery_products)+1)],\n",
        "    'OrderDate': [fake.date_between(start_date='-5y', end_date='today') for _ in range(10000)]\n",
        "}\n",
        "\n",
        "# Create DataFrame for sales data\n",
        "sales = pd.DataFrame(data)\n",
        "\n",
        "# Create DataFrame for product reference table\n",
        "product_data = {\n",
        "    'ProductNumber': range(1, len(grocery_products)+1),\n",
        "    'ProductName': grocery_products,\n",
        "}\n",
        "products = pd.DataFrame(product_data)\n",
        "\n",
        "# Define a function to execute SQL queries on DataFrame\n",
        "def run_query(query):\n",
        "    # Convert all table and column names to lower case to avoid case sensitivity\n",
        "    query = query.lower()\n",
        "    return sqldf(query, globals())"
      ]
    },
    {
      "cell_type": "markdown",
      "source": [
        "# Database Information\n",
        "\n",
        "You have Three Tables in the database they are as follow:\n",
        "\n",
        "### Sales Table:\n",
        "\n",
        "| OrderID | CustomerID | ProductNumber | Quantity | Price | OrderDate   |\n",
        "|---------|--------------|---------------|----------|-------|-------------|\n",
        "| ####    | # | ##            | #        | ##.## | ####-##-##  |\n",
        "\n",
        "### Products Table:\n",
        "\n",
        "| ProductNumber | ProductName |\n",
        "|---------------|-------------|\n",
        "|       #       |     Product    |\n",
        "\n",
        "### Customers Table:\n",
        "\n",
        "| CustomerID | CustomerName |\n",
        "|---------------|-------------|\n",
        "|       #       |     Name    |"
      ],
      "metadata": {
        "id": "3jyJnyyosFAm"
      }
    },
    {
      "cell_type": "markdown",
      "source": [
        "# Questions\n",
        "\n",
        "## Output a table so that it shows us:\n",
        "```The ORDERID, The CUSTOMERS's NAME, The PRODUCT they bought, The QUANTITY they bought, how much was SPENT TOTAL, and the DATE of purchase```\n",
        "\n",
        "\n",
        "## Can you filter it down to specific products?\n",
        "\n",
        "## Can you identify any errors in the data?\n",
        "\n",
        "========================================\n",
        "\n",
        "\n",
        "Captains can also ask other questions as needed.\n",
        "\n",
        "Note that data is randomly generated\n",
        "\n",
        "Note due to the nature of design string comparisons will be case insensitive\n",
        "\n",
        "========================================"
      ],
      "metadata": {
        "id": "kJ4C2xrqDPj3"
      }
    },
    {
      "cell_type": "markdown",
      "source": [
        "# Write Query Here\n",
        "\n",
        " In order for the code to work you must have ran the code above to set up the data base.\n",
        "\n",
        "To query the database:\n",
        "\n",
        "\n",
        "* Make sure the block has `query = \"\"\" \"\"\"` and `run_query(query)`\n",
        "\n",
        "* Make sure you write your query within the triple quotes (` \"\"\" SELECT ... \"\"\"`)\n",
        "\n",
        "\n"
      ],
      "metadata": {
        "id": "TZo8seW-9VUm"
      }
    },
    {
      "cell_type": "code",
      "source": [
        "# Print query\n",
        "# Make sure its in the triple quotes\n",
        "query = (\n",
        "\"\"\"\n",
        "SELECT\n",
        "\n",
        "\"\"\"\n",
        ")\n",
        "run_query(query)"
      ],
      "metadata": {
        "id": "h-_VFWLxsDH1"
      },
      "execution_count": null,
      "outputs": []
    }
  ]
}