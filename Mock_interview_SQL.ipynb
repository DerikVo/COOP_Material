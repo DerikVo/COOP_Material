{
  "nbformat": 4,
  "nbformat_minor": 0,
  "metadata": {
    "colab": {
      "provenance": [],
      "collapsed_sections": [
        "AFAl3MVsrscm"
      ],
      "authorship_tag": "ABX9TyM2PQhBfbN5eo/JXX3hDmLo",
      "include_colab_link": true
    },
    "kernelspec": {
      "name": "python3",
      "display_name": "Python 3"
    },
    "language_info": {
      "name": "python"
    }
  },
  "cells": [
    {
      "cell_type": "markdown",
      "metadata": {
        "id": "view-in-github",
        "colab_type": "text"
      },
      "source": [
        "<a href=\"https://colab.research.google.com/github/DerikVo/COOP_Teaching_Material/blob/main/Mock_interview_SQL.ipynb\" target=\"_parent\"><img src=\"https://colab.research.google.com/assets/colab-badge.svg\" alt=\"Open In Colab\"/></a>"
      ]
    },
    {
      "cell_type": "markdown",
      "source": [
        "If there are any questions Please contact \"[Derik Vo](https://www.linkedin.com/in/derik-vo/)\" on slack or LinkedIn\n",
        "\n",
        "Last Updated: April 15, 2024\n",
        "\n",
        "=======================================\n",
        "\n",
        "This notebook is intended to be used for mock interviews on SQL knowledge. This should cover Knowledge of Basic quering, Joins, Aliasing, and more advanced skills such as CTE, subquries, and Case Statements depending on the interviewer."
      ],
      "metadata": {
        "id": "OoTCuVxuuSer"
      }
    },
    {
      "cell_type": "markdown",
      "source": [
        "# Run this\n",
        "\n",
        "Run this block first to set up \"Database\"\n",
        "\n",
        "\n"
      ],
      "metadata": {
        "id": "AFAl3MVsrscm"
      }
    },
    {
      "cell_type": "code",
      "execution_count": null,
      "metadata": {
        "colab": {
          "base_uri": "https://localhost:8080/"
        },
        "id": "Ipz7QOpilJU5",
        "outputId": "55eb705d-6bff-46d1-8d22-8cef8a20a690"
      },
      "outputs": [
        {
          "output_type": "stream",
          "name": "stdout",
          "text": [
            "Collecting faker\n",
            "  Downloading Faker-24.9.0-py3-none-any.whl (1.8 MB)\n",
            "\u001b[2K     \u001b[90m━━━━━━━━━━━━━━━━━━━━━━━━━━━━━━━━━━━━━━━━\u001b[0m \u001b[32m1.8/1.8 MB\u001b[0m \u001b[31m8.4 MB/s\u001b[0m eta \u001b[36m0:00:00\u001b[0m\n",
            "\u001b[?25hRequirement already satisfied: python-dateutil>=2.4 in /usr/local/lib/python3.10/dist-packages (from faker) (2.8.2)\n",
            "Requirement already satisfied: six>=1.5 in /usr/local/lib/python3.10/dist-packages (from python-dateutil>=2.4->faker) (1.16.0)\n",
            "Traceback (most recent call last):\n",
            "  File \"/usr/local/lib/python3.10/dist-packages/pip/_vendor/pkg_resources/__init__.py\", line 3108, in _dep_map\n",
            "    return self.__dep_map\n",
            "  File \"/usr/local/lib/python3.10/dist-packages/pip/_vendor/pkg_resources/__init__.py\", line 2901, in __getattr__\n",
            "    raise AttributeError(attr)\n",
            "AttributeError: _DistInfoDistribution__dep_map\n",
            "\n",
            "During handling of the above exception, another exception occurred:\n",
            "\n",
            "Traceback (most recent call last):\n",
            "  File \"/usr/local/lib/python3.10/dist-packages/pip/_internal/cli/base_command.py\", line 169, in exc_logging_wrapper\n",
            "    status = run_func(*args)\n",
            "  File \"/usr/local/lib/python3.10/dist-packages/pip/_internal/cli/req_command.py\", line 242, in wrapper\n",
            "    return func(self, options, args)\n",
            "  File \"/usr/local/lib/python3.10/dist-packages/pip/_internal/commands/install.py\", line 441, in run\n",
            "    conflicts = self._determine_conflicts(to_install)\n",
            "  File \"/usr/local/lib/python3.10/dist-packages/pip/_internal/commands/install.py\", line 572, in _determine_conflicts\n",
            "    return check_install_conflicts(to_install)\n",
            "  File \"/usr/local/lib/python3.10/dist-packages/pip/_internal/operations/check.py\", line 101, in check_install_conflicts\n",
            "    package_set, _ = create_package_set_from_installed()\n",
            "  File \"/usr/local/lib/python3.10/dist-packages/pip/_internal/operations/check.py\", line 42, in create_package_set_from_installed\n",
            "    dependencies = list(dist.iter_dependencies())\n",
            "  File \"/usr/local/lib/python3.10/dist-packages/pip/_internal/metadata/pkg_resources.py\", line 216, in iter_dependencies\n",
            "    return self._dist.requires(extras)\n",
            "  File \"/usr/local/lib/python3.10/dist-packages/pip/_vendor/pkg_resources/__init__.py\", line 2821, in requires\n",
            "    dm = self._dep_map\n",
            "  File \"/usr/local/lib/python3.10/dist-packages/pip/_vendor/pkg_resources/__init__.py\", line 3110, in _dep_map\n",
            "    self.__dep_map = self._compute_dependencies()\n",
            "  File \"/usr/local/lib/python3.10/dist-packages/pip/_vendor/pkg_resources/__init__.py\", line 3120, in _compute_dependencies\n",
            "    reqs.extend(parse_requirements(req))\n",
            "  File \"/usr/local/lib/python3.10/dist-packages/pip/_vendor/pkg_resources/__init__.py\", line 3173, in __init__\n",
            "    super(Requirement, self).__init__(requirement_string)\n",
            "  File \"/usr/local/lib/python3.10/dist-packages/pip/_vendor/packaging/requirements.py\", line 102, in __init__\n",
            "    req = REQUIREMENT.parseString(requirement_string)\n",
            "  File \"/usr/local/lib/python3.10/dist-packages/pip/_vendor/pyparsing/core.py\", line 1131, in parse_string\n",
            "    loc, tokens = self._parse(instring, 0)\n",
            "  File \"/usr/local/lib/python3.10/dist-packages/pip/_vendor/pyparsing/core.py\", line 817, in _parseNoCache\n",
            "    loc, tokens = self.parseImpl(instring, pre_loc, doActions)\n",
            "  File \"/usr/local/lib/python3.10/dist-packages/pip/_vendor/pyparsing/core.py\", line 3886, in parseImpl\n",
            "    loc, exprtokens = e._parse(instring, loc, doActions)\n",
            "  File \"/usr/local/lib/python3.10/dist-packages/pip/_vendor/pyparsing/core.py\", line 817, in _parseNoCache\n",
            "    loc, tokens = self.parseImpl(instring, pre_loc, doActions)\n",
            "  File \"/usr/local/lib/python3.10/dist-packages/pip/_vendor/pyparsing/core.py\", line 4114, in parseImpl\n",
            "    return e._parse(\n",
            "  File \"/usr/local/lib/python3.10/dist-packages/pip/_vendor/pyparsing/core.py\", line 817, in _parseNoCache\n",
            "    loc, tokens = self.parseImpl(instring, pre_loc, doActions)\n",
            "  File \"/usr/local/lib/python3.10/dist-packages/pip/_vendor/pyparsing/core.py\", line 3864, in parseImpl\n",
            "    loc, resultlist = self.exprs[0]._parse(\n",
            "  File \"/usr/local/lib/python3.10/dist-packages/pip/_vendor/pyparsing/core.py\", line 817, in _parseNoCache\n",
            "    loc, tokens = self.parseImpl(instring, pre_loc, doActions)\n",
            "  File \"/usr/local/lib/python3.10/dist-packages/pip/_vendor/pyparsing/core.py\", line 3888, in parseImpl\n",
            "    resultlist += exprtokens\n",
            "  File \"/usr/local/lib/python3.10/dist-packages/pip/_vendor/pyparsing/results.py\", line 442, in __iadd__\n",
            "    self[k] = v\n",
            "  File \"/usr/local/lib/python3.10/dist-packages/pip/_vendor/pyparsing/results.py\", line 200, in __setitem__\n",
            "    def __setitem__(self, k, v, isinstance=isinstance):\n",
            "KeyboardInterrupt\n",
            "\n",
            "During handling of the above exception, another exception occurred:\n",
            "\n",
            "Traceback (most recent call last):\n",
            "  File \"/usr/local/bin/pip3\", line 8, in <module>\n",
            "    sys.exit(main())\n",
            "  File \"/usr/local/lib/python3.10/dist-packages/pip/_internal/cli/main.py\", line 79, in main\n",
            "    return command.main(cmd_args)\n",
            "  File \"/usr/local/lib/python3.10/dist-packages/pip/_internal/cli/base_command.py\", line 101, in main\n",
            "    return self._main(args)\n",
            "  File \"/usr/local/lib/python3.10/dist-packages/pip/_internal/cli/base_command.py\", line 223, in _main\n",
            "    return run(options, args)\n",
            "  File \"/usr/local/lib/python3.10/dist-packages/pip/_internal/cli/base_command.py\", line 169, in exc_logging_wrapper\n",
            "    status = run_func(*args)\n",
            "KeyboardInterrupt\n",
            "^C\n"
          ]
        }
      ],
      "source": [
        "# Run this to set up the \"DataBase\"\n",
        "import importlib\n",
        "\n",
        "# Check if faker package is installed\n",
        "if importlib.util.find_spec(\"faker\") is None:\n",
        "    !pip install faker\n",
        "\n",
        "# Check if pandasql package is installed\n",
        "if importlib.util.find_spec(\"pandasql\") is None:\n",
        "    !pip install pandasql\n",
        "\n",
        "import pandas as pd\n",
        "#Used to generate fake names\n",
        "from faker import Faker\n",
        "import random\n",
        "#Attemped to Use this for a consistent database, but its not working as intended.\n",
        "random.seed(431)\n",
        "from pandasql import sqldf\n",
        "# Initialize Faker to generate fake data\n",
        "fake = Faker()\n",
        "\n",
        "# List of grocery products, Can be expanded on if needed\n",
        "grocery_products = [\n",
        "    \"Milk\", \"Bread\", \"Eggs\", \"Cheese\", \"Yogurt\", \"Apples\", \"Bananas\", \"Oranges\",\n",
        "    \"Lettuce\", \"Tomatoes\", \"Carrots\", \"Rice\", \"Pasta\", \"Cereal\", \"Peanut butter\",\n",
        "    \"Jam\", \"Frozen vegetables\", \"Frozen pizza\", \"Chicken breasts\", \"Ground beef\",\n",
        "    \"Fish fillets\", \"Chips\", \"Crackers\", \"Cookies\"\n",
        "]\n",
        "# Generates fake customer names and IDs\n",
        "\"\"\"\n",
        "Id has a potential for errors this is intended\n",
        "COOPers can check for duplicate values as a form data quality checking\n",
        "\"\"\"\n",
        "customer_data = {\n",
        "    'CustomerId': range(1, 10001),\n",
        "    'CustomerName': [fake.name() for _ in range(10000)]\n",
        "}\n",
        "\n",
        "# Create DataFrame for customer names\n",
        "customers = pd.DataFrame(customer_data)\n",
        "\n",
        "# Generate fake sales data\n",
        "data = {\n",
        "    'OrderID': [fake.random_int(min=1, max=99999) for _ in range(10000)],\n",
        "    'CustomerID': [random.randint(1, 10000) for _ in range(10000)],\n",
        "    'ProductNumber': [fake.random_int(min=1, max=25) for _ in range(10000)],\n",
        "    'Quantity': [fake.random_int(min=1, max=10) for _ in range(10000)],\n",
        "    'OrderDate': [fake.date_between(start_date='-5y', end_date='today') for _ in range(10000)]\n",
        "}\n",
        "\n",
        "# Create DataFrame for sales data\n",
        "sales = pd.DataFrame(data)\n",
        "\n",
        "# Create DataFrame for product reference table\n",
        "product_data = {\n",
        "    'ProductNumber': range(1, len(grocery_products)+1),\n",
        "    'ProductName': grocery_products,\n",
        "    'Price': [round(random.uniform(1, 10), 2) for _ in range(1, len(grocery_products)+1)]\n",
        "}\n",
        "products = pd.DataFrame(product_data)\n",
        "\n",
        "# Define a function to execute SQL queries on DataFrame\n",
        "def query_dataframe(query):\n",
        "    # Convert all table and column names to lower case to avoid case sensitivity\n",
        "    query = query.lower()\n",
        "    return sqldf(query, globals())"
      ]
    },
    {
      "cell_type": "markdown",
      "source": [
        "# Database Information\n",
        "\n",
        "You have Three Tables in the database they are as follow:\n",
        "\n",
        "### Sales Table:\n",
        "\n",
        "| OrderID | CustomerID | ProductNumber | Quantity | Price | OrderDate   |\n",
        "|---------|--------------|---------------|----------|-------|-------------|\n",
        "| ####    | # | ##            | #        | ##.## | ####-##-##  |\n",
        "\n",
        "### Products Table:\n",
        "\n",
        "| ProductNumber | ProductName |\n",
        "|---------------|-------------|\n",
        "|       #       |     Product    |\n",
        "\n",
        "### Customers Table:\n",
        "\n",
        "| CustomerID | CustomerName |\n",
        "|---------------|-------------|\n",
        "|       #       |     Name    |\n",
        "\n",
        "\n",
        "# Questions\n",
        "\n",
        "## Output a table so that it shows us:\n",
        "```The ORDERID, The CUSTOMERS's NAME, The PRODUCT they bought, The QUANTITY they bought, how much was SPENT TOTAL, and the DATE of purchase```\n",
        "\n",
        "\n",
        "## Can you identify any errors in the data?\n",
        "\n",
        "Ignore any outrageous prices\n",
        "\n",
        "========================================\n",
        "\n",
        "\n",
        "Captains can also ask other questions as needed.\n",
        "\n",
        "Note that data is randomly generated\n",
        "\n",
        "========================================\n"
      ],
      "metadata": {
        "id": "3jyJnyyosFAm"
      }
    },
    {
      "cell_type": "markdown",
      "source": [
        "# Write Query Here"
      ],
      "metadata": {
        "id": "TZo8seW-9VUm"
      }
    },
    {
      "cell_type": "code",
      "source": [
        "# Print query\n",
        "# Make sure its in the triple quotes\n",
        "query = \"\"\"\n",
        "SELECT\n",
        "\n",
        "\"\"\"\n",
        "\n",
        "query_dataframe(query)"
      ],
      "metadata": {
        "id": "h-_VFWLxsDH1"
      },
      "execution_count": null,
      "outputs": []
    }
  ]
}