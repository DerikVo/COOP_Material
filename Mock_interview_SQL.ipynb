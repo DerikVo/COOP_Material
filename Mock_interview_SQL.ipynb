{
  "nbformat": 4,
  "nbformat_minor": 0,
  "metadata": {
    "colab": {
      "provenance": [],
      "collapsed_sections": [
        "AFAl3MVsrscm"
      ],
      "authorship_tag": "ABX9TyMvJvchrcvXDp9l6X9vo3nA",
      "include_colab_link": true
    },
    "kernelspec": {
      "name": "python3",
      "display_name": "Python 3"
    },
    "language_info": {
      "name": "python"
    }
  },
  "cells": [
    {
      "cell_type": "markdown",
      "metadata": {
        "id": "view-in-github",
        "colab_type": "text"
      },
      "source": [
        "<a href=\"https://colab.research.google.com/github/DerikVo/COOP_Teaching_Material/blob/main/Mock_interview_SQL.ipynb\" target=\"_parent\"><img src=\"https://colab.research.google.com/assets/colab-badge.svg\" alt=\"Open In Colab\"/></a>"
      ]
    },
    {
      "cell_type": "markdown",
      "source": [
        "# Notes\n",
        "If there are any questions Please contact \"[Derik Vo](https://www.linkedin.com/in/derik-vo/)\" on slack or LinkedIn\n",
        "\n",
        "Ideally this should be ran in a `Google Colab` for ease of access\n",
        "\n",
        "**Last Updated: April 15, 2024**\n",
        "\n",
        "=======================================\n",
        "\n",
        "This notebook is intended to be used for mock interviews on SQL knowledge. This should cover knowledge of basic quering, joins, aliasing, and more advanced skills such as CTE, subquries, and case statements depending on the interviewer."
      ],
      "metadata": {
        "id": "OoTCuVxuuSer"
      }
    },
    {
      "cell_type": "markdown",
      "source": [
        "# Run this\n",
        "\n",
        "Run this block first to set up \"Database\"\n",
        "\n",
        "\n"
      ],
      "metadata": {
        "id": "AFAl3MVsrscm"
      }
    },
    {
      "cell_type": "code",
      "execution_count": null,
      "metadata": {
        "colab": {
          "base_uri": "https://localhost:8080/"
        },
        "id": "Ipz7QOpilJU5",
        "outputId": "20672553-3d04-4256-9c18-26d59fc0be31"
      },
      "outputs": [
        {
          "output_type": "stream",
          "name": "stdout",
          "text": [
            "Collecting faker\n",
            "  Using cached Faker-24.9.0-py3-none-any.whl (1.8 MB)\n",
            "Requirement already satisfied: python-dateutil>=2.4 in /usr/local/lib/python3.10/dist-packages (from faker) (2.8.2)\n",
            "Requirement already satisfied: six>=1.5 in /usr/local/lib/python3.10/dist-packages (from python-dateutil>=2.4->faker) (1.16.0)\n",
            "Installing collected packages: faker\n",
            "Successfully installed faker-24.9.0\n"
          ]
        }
      ],
      "source": [
        "# Run this to set up the \"DataBase\"\n",
        "import importlib\n",
        "\n",
        "# Check if faker package is installed\n",
        "if importlib.util.find_spec(\"faker\") is None:\n",
        "    !pip install faker\n",
        "\n",
        "# Check if pandasql package is installed\n",
        "if importlib.util.find_spec(\"pandasql\") is None:\n",
        "    !pip install pandasql\n",
        "\n",
        "import pandas as pd\n",
        "#Used to generate fake names\n",
        "from faker import Faker\n",
        "import random\n",
        "#Attemped to Use this for a consistent database, but its not working as intended.\n",
        "random.seed(431)\n",
        "from pandasql import sqldf\n",
        "# Initialize Faker to generate fake data\n",
        "fake = Faker()\n",
        "\n",
        "# List of grocery products, Can be expanded on if needed\n",
        "grocery_products = [\n",
        "    \"Milk\", \"Bread\", \"Eggs\", \"Cheese\", \"Yogurt\", \"Apples\", \"Bananas\", \"Oranges\",\n",
        "    \"Lettuce\", \"Tomatoes\", \"Carrots\", \"Rice\", \"Pasta\", \"Cereal\", \"Peanut butter\",\n",
        "    \"Jam\", \"Frozen vegetables\", \"Frozen pizza\", \"Chicken breasts\", \"Ground beef\",\n",
        "    \"Fish fillets\", \"Chips\", \"Crackers\", \"Cookies\"\n",
        "]\n",
        "# Generates fake customer names and IDs\n",
        "\"\"\"\n",
        "Id has a potential for errors this is intended\n",
        "COOPers can check for duplicate values as a form data quality checking\n",
        "\"\"\"\n",
        "customer_data = {\n",
        "    'CustomerId': range(1, 10001),\n",
        "    'CustomerName': [fake.name() for _ in range(10000)]\n",
        "}\n",
        "\n",
        "# Create DataFrame for customer names\n",
        "customers = pd.DataFrame(customer_data)\n",
        "\n",
        "# Generate fake sales data\n",
        "data = {\n",
        "    'OrderID': [fake.random_int(min=1, max=99999) for _ in range(10000)],\n",
        "    'CustomerID': [random.randint(1, 10000) for _ in range(10000)],\n",
        "    'ProductNumber': [fake.random_int(min=1, max=25) for _ in range(10000)],\n",
        "    'Quantity': [fake.random_int(min=1, max=10) for _ in range(10000)],\n",
        "    'OrderDate': [fake.date_between(start_date='-5y', end_date='today') for _ in range(10000)]\n",
        "}\n",
        "\n",
        "# Create DataFrame for sales data\n",
        "sales = pd.DataFrame(data)\n",
        "\n",
        "# Create DataFrame for product reference table\n",
        "product_data = {\n",
        "    'ProductNumber': range(1, len(grocery_products)+1),\n",
        "    'ProductName': grocery_products,\n",
        "    'Price': [round(random.uniform(1, 10), 2) for _ in range(1, len(grocery_products)+1)]\n",
        "}\n",
        "products = pd.DataFrame(product_data)\n",
        "\n",
        "# Define a function to execute SQL queries on DataFrame\n",
        "def run_query(query):\n",
        "    # Convert all table and column names to lower case to avoid case sensitivity\n",
        "    query = query.lower()\n",
        "    return sqldf(query, globals())"
      ]
    },
    {
      "cell_type": "markdown",
      "source": [
        "# Database Information\n",
        "\n",
        "You have Three Tables in the database they are as follow:\n",
        "\n",
        "### Sales Table:\n",
        "\n",
        "| OrderID | CustomerID | ProductNumber | Quantity | Price | OrderDate   |\n",
        "|---------|--------------|---------------|----------|-------|-------------|\n",
        "| ####    | # | ##            | #        | ##.## | ####-##-##  |\n",
        "\n",
        "### Products Table:\n",
        "\n",
        "| ProductNumber | ProductName |\n",
        "|---------------|-------------|\n",
        "|       #       |     Product    |\n",
        "\n",
        "### Customers Table:\n",
        "\n",
        "| CustomerID | CustomerName |\n",
        "|---------------|-------------|\n",
        "|       #       |     Name    |"
      ],
      "metadata": {
        "id": "3jyJnyyosFAm"
      }
    },
    {
      "cell_type": "markdown",
      "source": [
        "# Questions\n",
        "\n",
        "## Output a table so that it shows us:\n",
        "```The ORDERID, The CUSTOMERS's NAME, The PRODUCT they bought, The QUANTITY they bought, how much was SPENT TOTAL, and the DATE of purchase```\n",
        "\n",
        "\n",
        "## Can you identify any errors in the data?\n",
        "\n",
        "========================================\n",
        "\n",
        "\n",
        "Captains can also ask other questions as needed.\n",
        "\n",
        "Note that data is randomly generated\n",
        "\n",
        "========================================"
      ],
      "metadata": {
        "id": "kJ4C2xrqDPj3"
      }
    },
    {
      "cell_type": "markdown",
      "source": [
        "# Write Query Here\n",
        "\n",
        " In order for the code to work you must have ran the code above to set up the data base.\n",
        "\n",
        "To query the database:\n",
        "\n",
        "\n",
        "* Make sure the block has `query = \"\"\" \"\"\"` and `run_query(query)`\n",
        "\n",
        "* Make sure you write your query within the triple quotes (` \"\"\" SELECT ... \"\"\"`)\n",
        "\n",
        "\n"
      ],
      "metadata": {
        "id": "TZo8seW-9VUm"
      }
    },
    {
      "cell_type": "code",
      "source": [
        "# Print query\n",
        "# Make sure its in the triple quotes\n",
        "query = (\n",
        "\"\"\"\n",
        "SELECT\n",
        "\n",
        "\"\"\"\n",
        ")\n",
        "run_query(query)"
      ],
      "metadata": {
        "id": "h-_VFWLxsDH1"
      },
      "execution_count": null,
      "outputs": []
    }
  ]
}