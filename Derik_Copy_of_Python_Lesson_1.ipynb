{
  "cells": [
    {
      "cell_type": "markdown",
      "metadata": {
        "id": "view-in-github",
        "colab_type": "text"
      },
      "source": [
        "<a href=\"https://colab.research.google.com/github/DerikVo/COOP_Material/blob/main/Derik_Copy_of_Python_Lesson_1.ipynb\" target=\"_parent\"><img src=\"https://colab.research.google.com/assets/colab-badge.svg\" alt=\"Open In Colab\"/></a>"
      ]
    },
    {
      "cell_type": "markdown",
      "metadata": {
        "id": "ELzkR4zPIHa5"
      },
      "source": [
        "<img src=\"https://tinyurl.com/k2t79s6t\" style=\"float: left; margin: 20px; height: 55px\">\n",
        "\n",
        "# Basic Python Fundamentals\n",
        "\n",
        "_Authors: Christopher Chan_\n",
        "\n",
        "_Facilitated by: Derik Vo_\n",
        "\n",
        "Original notebook:\n",
        "\n",
        "[link](https://colab.research.google.com/drive/1FSl2dWSDyDd3Rq5gfWU-b2Ks8AcLKAoK?usp=share_link\n",
        ")\n",
        "\n",
        "\n",
        "The thing to pay attention is the code listed below, which will combine everything we learned and things **we will** learn later. If you have any questions about the code message me (Derik Vo capt C### on slack, or if im not teaching a cycle message my alumni acount)\n",
        "\n",
        "[Combining everything](#combining_everything)\n"
      ]
    },
    {
      "cell_type": "markdown",
      "metadata": {
        "id": "_lcClxj9IHbC"
      },
      "source": [
        "### Objective\n",
        "\n",
        "Upon completion of this lesson you should be able to understand the following:\n",
        "1. Variable creation and naming convention\n",
        "2. Object types\n",
        "3. Basic mathematic operations, Booleans and Logical Operators\n",
        "4. Index and Slicing\n",
        "5. Strings\n",
        "6. Lists, Tuples, Dictionaries and Mutability\n",
        "\n",
        "This will help us understand the basic fundamentals to python"
      ]
    },
    {
      "cell_type": "markdown",
      "metadata": {
        "id": "CnppWrBcIHbE"
      },
      "source": [
        "##### ==================================================================================================\n",
        "### Variables\n",
        "\n",
        "Variables are names that have been assigned to specific objects."
      ]
    },
    {
      "cell_type": "markdown",
      "metadata": {
        "id": "FqNJpBuRIHbF"
      },
      "source": [
        "##### ==================================================================================================\n",
        "Create a variable called `num_coopers` to represent the number of COOPers in class. Assume the number is 16.\n",
        "\n",
        "Example:"
      ]
    },
    {
      "cell_type": "code",
      "execution_count": 1,
      "metadata": {
        "id": "kNIr-qYSIHbF",
        "colab": {
          "base_uri": "https://localhost:8080/"
        },
        "outputId": "e7696b99-d2fc-4197-93cb-c5911dea3ffe"
      },
      "outputs": [
        {
          "output_type": "stream",
          "name": "stdout",
          "text": [
            "16\n"
          ]
        }
      ],
      "source": [
        "num_coopers = 16\n",
        "\n",
        "print(num_coopers)"
      ]
    },
    {
      "cell_type": "markdown",
      "metadata": {
        "id": "KGCcI3FHIHbH"
      },
      "source": [
        "##### ==================================================================================================\n",
        "Create a variable `num_capt` to represent the number of captains in class. Assume the number is 4.\n",
        "\n",
        "Example:"
      ]
    },
    {
      "cell_type": "code",
      "execution_count": 2,
      "metadata": {
        "id": "Uh1q5JdTIHbJ",
        "colab": {
          "base_uri": "https://localhost:8080/"
        },
        "outputId": "d04045b2-a19e-4f47-c797-ab212f158822"
      },
      "outputs": [
        {
          "output_type": "stream",
          "name": "stdout",
          "text": [
            "4\n"
          ]
        }
      ],
      "source": [
        "num_capt = 4\n",
        "\n",
        "print(num_capt)"
      ]
    },
    {
      "cell_type": "markdown",
      "metadata": {
        "id": "nIMZh-9eIHbK"
      },
      "source": [
        "##### ==================================================================================================\n",
        "### Restrictions on Variable Names\n",
        "\n",
        "- Cannot start with numbers (i.e., `5`, `5_head`).\n",
        "- Cannot match names of Python keywords (i.e., '`for`', '`and`', '`elif`').\n",
        "- Cannot contain spaces or periods."
      ]
    },
    {
      "cell_type": "markdown",
      "metadata": {
        "id": "twM5RzshvrYy"
      },
      "source": [
        "#### ✋🏼 Callout !!\n",
        "\n",
        "Python is case-sensitive. This means that variables like these: `coop_careers` and `COOP_careers` are not the same!"
      ]
    },
    {
      "cell_type": "markdown",
      "metadata": {
        "id": "EEP3rRJTIHbM"
      },
      "source": [
        "##### ==================================================================================================\n",
        "### Best Practices for Variable Names\n",
        "- Should be *unambiguous* and *descriptive*\n",
        "- Short and clear variable names are best\n",
        "- Lowercase variables with underscores between words (i.e., '`coop_student`', '`coop_captain`')"
      ]
    },
    {
      "cell_type": "markdown",
      "metadata": {
        "id": "qZG3JMhEvrYz"
      },
      "source": [
        "##### ==================================================================================================\n",
        "### Objects in Python\n",
        "\n",
        "The concept of objects (and by extension Object Oriented Programming) is something that can take a whole introductory course to explain, but for our purposes\n",
        "we only need to know a few key things:\n",
        "\n",
        "1. In Python, everything is an object (including functions!). Variables always reference some kind of object\n",
        "2. All objects have three properties that we are concerned with: attributes, methods, and types\n",
        "3. Attributes are things that describe an object, such as a name. These will vary depending on the object in question\n",
        "4. Methods are things that the object can do. For example, a `string` object has a `replace` method which allows you to replace text within that string\n",
        "5. Each object has a data type that defines how it can be interacted with. For instance, the number `1` is an integer object and can be used with other numeric types and operations"
      ]
    },
    {
      "cell_type": "markdown",
      "metadata": {
        "id": "h7StInO_IHbN"
      },
      "source": [
        "##### ==================================================================================================\n",
        "### Common Types in Python"
      ]
    },
    {
      "cell_type": "markdown",
      "metadata": {
        "id": "qd-3z6c7IHbO"
      },
      "source": [
        "The *type* of an object in any programming language tells a computer what operations are defined for that object and how they are defined."
      ]
    },
    {
      "cell_type": "markdown",
      "metadata": {
        "id": "K7DfaVNcIHbO"
      },
      "source": [
        "##### ==================================================================================================\n",
        "Adding two `int` (integer numbers) would return a integer.\n",
        "\n",
        "Example:"
      ]
    },
    {
      "cell_type": "code",
      "execution_count": 3,
      "metadata": {
        "id": "oplFp7lxIHbP",
        "colab": {
          "base_uri": "https://localhost:8080/"
        },
        "outputId": "6a0cfda2-8dae-44cd-de40-5aa2787a5dd8"
      },
      "outputs": [
        {
          "output_type": "stream",
          "name": "stdout",
          "text": [
            "10\n"
          ]
        }
      ],
      "source": [
        "ten = 5 + 5\n",
        "print(ten)"
      ]
    },
    {
      "cell_type": "markdown",
      "metadata": {
        "id": "ACDG59TUIHbP"
      },
      "source": [
        "##### ==================================================================================================\n",
        "Adding two `float` (numbers with decimals) would return a float.\n",
        "\n",
        "Example:"
      ]
    },
    {
      "cell_type": "code",
      "execution_count": 4,
      "metadata": {
        "id": "tAJeT1B9IHbQ",
        "colab": {
          "base_uri": "https://localhost:8080/"
        },
        "outputId": "2c6cc757-d9ac-4290-d334-b3a7935fe4e2"
      },
      "outputs": [
        {
          "output_type": "stream",
          "name": "stdout",
          "text": [
            "10.0\n"
          ]
        }
      ],
      "source": [
        "also_ten = 5.0 + 5.0\n",
        "print(also_ten)"
      ]
    },
    {
      "cell_type": "markdown",
      "metadata": {
        "id": "IuZnv1LEIHbQ"
      },
      "source": [
        "##### ==================================================================================================\n",
        "The `+` operation concatenates objects, including strings.\n",
        "\n",
        "Adding two `str` (strings - sequence of characters)\n",
        "\n",
        "Example:"
      ]
    },
    {
      "cell_type": "code",
      "execution_count": 5,
      "metadata": {
        "id": "Aiw4ZdvYIHbQ",
        "outputId": "ad574500-f1e6-430f-d91c-8689b1bbddb1",
        "colab": {
          "base_uri": "https://localhost:8080/"
        }
      },
      "outputs": [
        {
          "output_type": "stream",
          "name": "stdout",
          "text": [
            "55\n"
          ]
        }
      ],
      "source": [
        "fifty_five = \"5\" + \"5\"\n",
        "print(fifty_five)"
      ]
    },
    {
      "cell_type": "markdown",
      "metadata": {
        "id": "_FJ5ra0gIHbR"
      },
      "source": [
        "##### ==================================================================================================\n",
        "The built-in function in Python `len` counts and returns the number of elements in a object.\n",
        "\n",
        "Applying `len` to a string.\n",
        "\n",
        "Example:"
      ]
    },
    {
      "cell_type": "code",
      "execution_count": 6,
      "metadata": {
        "id": "7_eurzzeIHbR",
        "outputId": "51504641-8677-4ab3-86f0-30ebb04f2c3e",
        "colab": {
          "base_uri": "https://localhost:8080/"
        }
      },
      "outputs": [
        {
          "output_type": "execute_result",
          "data": {
            "text/plain": [
              "5"
            ]
          },
          "metadata": {},
          "execution_count": 6
        }
      ],
      "source": [
        "len(\"33333\")"
      ]
    },
    {
      "cell_type": "markdown",
      "metadata": {
        "id": "Y3hhOiO3IHbS"
      },
      "source": [
        "##### =================================================================================================="
      ]
    },
    {
      "cell_type": "markdown",
      "metadata": {
        "id": "g08jYl2XIHbS"
      },
      "source": [
        "### Single Elements\n",
        "\n",
        "- **Integer:** Are whole number ranging from negative infinity to infinity, such as `-2`,`-1`,`0`,`1`, `2`, etc.\n",
        "- **Float:** A number with a decimal, such as `1.23482` or `3.0`.\n",
        "- **Boolean:** `True` or `False`."
      ]
    },
    {
      "cell_type": "markdown",
      "metadata": {
        "id": "b8iGkHdkIHbS"
      },
      "source": [
        "### Containers\n",
        "\n",
        "- **Strings:** A sequence of characters: `\"Chris is very handsome\"`\n",
        "- **Lists:** An ordered sequence of objects: `[1, 'love', ['Chris']]`\n",
        "- **Tuples:** Similar to a List but is immutable after it is created, `(1, 'love', ['Chris'])`\n",
        "- **Dictionaries**: A collection of key-value pairs: `{'name': 'Chris Chan', 'gender': Male, 'organization': COOP_Careers}`"
      ]
    },
    {
      "cell_type": "markdown",
      "metadata": {
        "id": "pK6mt4TuIHbS"
      },
      "source": [
        "### Arithmetic Operators"
      ]
    },
    {
      "cell_type": "markdown",
      "metadata": {
        "id": "fvJTkP5oIHbT"
      },
      "source": [
        "Python have symbols called `operators` that perform basic mathematics arithmetic computations"
      ]
    },
    {
      "cell_type": "code",
      "execution_count": 7,
      "metadata": {
        "id": "VFbu_gALIHbT",
        "outputId": "2d023fc3-55f9-4719-8828-287d1a664130",
        "colab": {
          "base_uri": "https://localhost:8080/"
        }
      },
      "outputs": [
        {
          "output_type": "stream",
          "name": "stdout",
          "text": [
            "6\n",
            "2\n",
            "8\n",
            "1.0\n",
            "1\n",
            "16\n",
            "0\n"
          ]
        }
      ],
      "source": [
        "print(4 + 2)  #addition\n",
        "print(4 - 2)  #subtraction\n",
        "print(4 * 2)  #multiplication\n",
        "print(4 / 4)  #division\n",
        "print(4 // 4) #floor division / integer division (divides then round down to the nearest integer)\n",
        "print(4 ** 2) #exponent\n",
        "print(4 % 2)  #modulo"
      ]
    },
    {
      "cell_type": "markdown",
      "metadata": {
        "id": "eKOTaB4dvrY0"
      },
      "source": [
        "##### ==================================================================================================\n",
        "### Assignment Operators\n",
        "\n",
        "Python uses a single equal sign (`=`) to assign values to a variable. We can combine the arithmetic operators with the assignment operator as a shortcut when we perform an operation and update a variable."
      ]
    },
    {
      "cell_type": "code",
      "execution_count": 8,
      "metadata": {
        "id": "o-xmRGZ9vrY0",
        "outputId": "60cc6bc2-d13a-4916-d542-8c03bbb3ce97",
        "colab": {
          "base_uri": "https://localhost:8080/"
        }
      },
      "outputs": [
        {
          "output_type": "stream",
          "name": "stdout",
          "text": [
            "10.0\n"
          ]
        }
      ],
      "source": [
        "my_num = 10 # Standard assignment\n",
        "my_num -= 1 # Subtracts 1 from `my_num` and assigns the result back to `my_num`\n",
        "my_num += 1 # Adds 1 to `my_num` and assigns the result back to `my_num`\n",
        "my_num *= 1 # Multiplies the original value in `my_num` by 1 and assigns the result back to `my_num`\n",
        "my_num /= 1 # Divides the original value in `my_num` by 1 and assigns the result back to `my_num`\n",
        "# The above can be done with all the aforementioned arithmetic operators\n",
        "print(my_num)"
      ]
    },
    {
      "cell_type": "code",
      "source": [
        "my_num = 11.6\n",
        "print(my_num)\n",
        "my_num -= 1\n",
        "print(my_num)\n",
        "my_num += 1\n",
        "print(my_num)\n",
        "my_num *= 2 # my_num = my_num * 2\n",
        "print(my_num)\n",
        "my_num //= 2 # my_num = my_num / 2\n",
        "print(my_num)"
      ],
      "metadata": {
        "id": "Wv-oXh5NHZE1",
        "outputId": "5410aa24-f4ee-4f8d-c5f5-59ce3a219756",
        "colab": {
          "base_uri": "https://localhost:8080/"
        }
      },
      "execution_count": 9,
      "outputs": [
        {
          "output_type": "stream",
          "name": "stdout",
          "text": [
            "11.6\n",
            "10.6\n",
            "11.6\n",
            "23.2\n",
            "11.0\n"
          ]
        }
      ]
    },
    {
      "cell_type": "markdown",
      "metadata": {
        "id": "qcCxLmAcIHbT"
      },
      "source": [
        "##### ==================================================================================================\n",
        "### Booleans and Logical Operators"
      ]
    },
    {
      "cell_type": "markdown",
      "metadata": {
        "id": "QkRFTOAKIHbU"
      },
      "source": [
        "The result of a Boolean results in two values: `True` and `False`\n",
        "\n",
        "The `assert` statement tests if a condition returns True. If condition returns True, then nothing happens. If condition returns False, AssertionError is raised."
      ]
    },
    {
      "cell_type": "code",
      "source": [
        "1 == 2"
      ],
      "metadata": {
        "id": "lGkYfNo9ITOi",
        "outputId": "a3089dca-71f9-4ac3-ed9c-37e498b88f59",
        "colab": {
          "base_uri": "https://localhost:8080/"
        }
      },
      "execution_count": 10,
      "outputs": [
        {
          "output_type": "execute_result",
          "data": {
            "text/plain": [
              "False"
            ]
          },
          "metadata": {},
          "execution_count": 10
        }
      ]
    },
    {
      "cell_type": "markdown",
      "metadata": {
        "id": "F9OHOyYDIHbU"
      },
      "source": [
        "##### ==================================================================================================\n",
        "### Comparison Operators and Inequalities\n",
        "\n",
        "- Strictly Greater than: `>`\n",
        "- Greater than or equal to: `>=`\n",
        "\n",
        "- Strictly Less than: `<`\n",
        "- Less than or equal to: `<=`\n",
        "\n",
        "- Equal: `==`\n",
        "- Does not equal: `!=`\n",
        "\n",
        "##### ==================================================================================================\n",
        "### Logical Operators\n",
        "\n",
        "- `and`: Are both X and Y statements true?\n",
        "- `or`: Is at least one of the two statements X and Y true?\n",
        "- `not`: Is statement X false?"
      ]
    },
    {
      "cell_type": "code",
      "execution_count": 11,
      "metadata": {
        "id": "C3UVOoGVIHbU",
        "colab": {
          "base_uri": "https://localhost:8080/"
        },
        "outputId": "1b2b2168-6148-4a62-9b8b-baf0028d42d8"
      },
      "outputs": [
        {
          "output_type": "execute_result",
          "data": {
            "text/plain": [
              "True"
            ]
          },
          "metadata": {},
          "execution_count": 11
        }
      ],
      "source": [
        "10 > 5"
      ]
    },
    {
      "cell_type": "code",
      "execution_count": 12,
      "metadata": {
        "id": "RJF30BiDIHbU",
        "colab": {
          "base_uri": "https://localhost:8080/"
        },
        "outputId": "7caffe5f-3a50-4923-a9b2-45c8cf750def"
      },
      "outputs": [
        {
          "output_type": "execute_result",
          "data": {
            "text/plain": [
              "False"
            ]
          },
          "metadata": {},
          "execution_count": 12
        }
      ],
      "source": [
        "10 < 5"
      ]
    },
    {
      "cell_type": "code",
      "execution_count": 13,
      "metadata": {
        "id": "K53DSrW3IHbV",
        "colab": {
          "base_uri": "https://localhost:8080/"
        },
        "outputId": "8c2d6a5e-0e56-41c0-d457-bb362aa2a6a6"
      },
      "outputs": [
        {
          "output_type": "execute_result",
          "data": {
            "text/plain": [
              "True"
            ]
          },
          "metadata": {},
          "execution_count": 13
        }
      ],
      "source": [
        "10 > 5 and 4 > 1"
      ]
    },
    {
      "cell_type": "code",
      "execution_count": 14,
      "metadata": {
        "id": "DWHMvKGqIHbV",
        "colab": {
          "base_uri": "https://localhost:8080/"
        },
        "outputId": "2ad7fb47-3b93-45cd-8af5-95aa3da5b811"
      },
      "outputs": [
        {
          "output_type": "execute_result",
          "data": {
            "text/plain": [
              "False"
            ]
          },
          "metadata": {},
          "execution_count": 14
        }
      ],
      "source": [
        "10 > 5 and 4 < 1"
      ]
    },
    {
      "cell_type": "code",
      "execution_count": 15,
      "metadata": {
        "id": "C5nTknTfIHbV",
        "colab": {
          "base_uri": "https://localhost:8080/"
        },
        "outputId": "4c7c6790-92ec-49c3-92b1-308d0f52ccb1"
      },
      "outputs": [
        {
          "output_type": "execute_result",
          "data": {
            "text/plain": [
              "False"
            ]
          },
          "metadata": {},
          "execution_count": 15
        }
      ],
      "source": [
        "10 < 5 or 5 > 10"
      ]
    },
    {
      "cell_type": "code",
      "execution_count": 16,
      "metadata": {
        "id": "9B-o7xGpIHbV",
        "colab": {
          "base_uri": "https://localhost:8080/"
        },
        "outputId": "d1e56a72-739d-452d-8856-41e81ac3d603"
      },
      "outputs": [
        {
          "output_type": "execute_result",
          "data": {
            "text/plain": [
              "True"
            ]
          },
          "metadata": {},
          "execution_count": 16
        }
      ],
      "source": [
        "not 10 < 5"
      ]
    },
    {
      "cell_type": "markdown",
      "metadata": {
        "id": "bXX1-QuHIHbW"
      },
      "source": [
        "##### ==================================================================================================\n",
        "Notice nothing happens when the statement below is run because the statement is True"
      ]
    },
    {
      "cell_type": "code",
      "execution_count": 17,
      "metadata": {
        "id": "kRhn6PW_IHbW"
      },
      "outputs": [],
      "source": [
        "x = 100\n",
        "\n",
        "assert x == 100"
      ]
    },
    {
      "cell_type": "markdown",
      "metadata": {
        "id": "hDbafXD2IHbW"
      },
      "source": [
        "##### ==================================================================================================\n",
        "Notice how a `AssertionError` appeared when the statement is not True when using the `assert` statement."
      ]
    },
    {
      "cell_type": "code",
      "execution_count": 18,
      "metadata": {
        "id": "ykq8ZgyYIHbX",
        "colab": {
          "base_uri": "https://localhost:8080/",
          "height": 210
        },
        "outputId": "9c0c84ed-c282-49e3-9286-85a3b41d5a9c"
      },
      "outputs": [
        {
          "output_type": "error",
          "ename": "AssertionError",
          "evalue": "ignored",
          "traceback": [
            "\u001b[0;31m---------------------------------------------------------------------------\u001b[0m",
            "\u001b[0;31mAssertionError\u001b[0m                            Traceback (most recent call last)",
            "\u001b[0;32m<ipython-input-18-e8ee968ed2ff>\u001b[0m in \u001b[0;36m<cell line: 3>\u001b[0;34m()\u001b[0m\n\u001b[1;32m      1\u001b[0m \u001b[0mx\u001b[0m \u001b[0;34m=\u001b[0m \u001b[0;36m100\u001b[0m\u001b[0;34m\u001b[0m\u001b[0;34m\u001b[0m\u001b[0m\n\u001b[1;32m      2\u001b[0m \u001b[0;34m\u001b[0m\u001b[0m\n\u001b[0;32m----> 3\u001b[0;31m \u001b[0;32massert\u001b[0m \u001b[0mx\u001b[0m \u001b[0;34m==\u001b[0m \u001b[0;36m200\u001b[0m\u001b[0;34m,\u001b[0m \u001b[0;34m'x is not 100'\u001b[0m\u001b[0;34m\u001b[0m\u001b[0;34m\u001b[0m\u001b[0m\n\u001b[0m",
            "\u001b[0;31mAssertionError\u001b[0m: x is not 100"
          ]
        }
      ],
      "source": [
        "x = 100\n",
        "\n",
        "assert x == 200, 'x is not 100'"
      ]
    },
    {
      "cell_type": "markdown",
      "metadata": {
        "id": "wR1AWp2jIHbX"
      },
      "source": [
        "##### ==================================================================================================\n",
        "## Strings"
      ]
    },
    {
      "cell_type": "markdown",
      "metadata": {
        "id": "V7fy6CzbIHbX"
      },
      "source": [
        "*String construction*\n",
        "\n",
        "The `type()` function returns us the type of the object\n",
        "\n",
        "Example:"
      ]
    },
    {
      "cell_type": "code",
      "execution_count": 20,
      "metadata": {
        "id": "YhGpAeezIHbX"
      },
      "outputs": [],
      "source": [
        "my_string = \"I love COOP Careers\"\n"
      ]
    },
    {
      "cell_type": "markdown",
      "metadata": {
        "id": "lJHUW148IHbX"
      },
      "source": [
        "##### ==================================================================================================\n",
        "The `len()` function returns us the number of elements in the object\n",
        "\n",
        "Example:"
      ]
    },
    {
      "cell_type": "code",
      "execution_count": 21,
      "metadata": {
        "id": "7vI1KLphIHbY",
        "colab": {
          "base_uri": "https://localhost:8080/"
        },
        "outputId": "cb71da1e-6218-4fc3-ef46-5d38569f4035"
      },
      "outputs": [
        {
          "output_type": "execute_result",
          "data": {
            "text/plain": [
              "19"
            ]
          },
          "metadata": {},
          "execution_count": 21
        }
      ],
      "source": [
        "len(my_string)"
      ]
    },
    {
      "cell_type": "markdown",
      "metadata": {
        "id": "7_VisV-CIHbY"
      },
      "source": [
        "##### ==================================================================================================\n",
        "*String replacement*\n",
        "\n",
        "`.replace()` is a **method** -- a function that's built into all objects of a given type.\n",
        "\n",
        "Functions (e.g. print, len, and type) and methods (e.g. str.replace) are effectively the same. However methods are defined within a particular class and is called on instances of that class using . followed by a method name.\n",
        "\n",
        "Example:"
      ]
    },
    {
      "cell_type": "code",
      "execution_count": 22,
      "metadata": {
        "id": "vqfd2UkFIHbY",
        "colab": {
          "base_uri": "https://localhost:8080/"
        },
        "outputId": "6c95cc00-b41f-43b5-f1cf-c544bbdd257d"
      },
      "outputs": [
        {
          "output_type": "stream",
          "name": "stdout",
          "text": [
            "I love Chris\n"
          ]
        }
      ],
      "source": [
        "my_string = my_string.replace(\"COOP Careers\", \"Chris\")\n",
        "print(my_string)"
      ]
    },
    {
      "cell_type": "code",
      "source": [
        "len(my_string)"
      ],
      "metadata": {
        "id": "WS24MubOM_lA",
        "colab": {
          "base_uri": "https://localhost:8080/"
        },
        "outputId": "a878b9ff-eb21-429b-9e9e-4a568373d78e"
      },
      "execution_count": 23,
      "outputs": [
        {
          "output_type": "execute_result",
          "data": {
            "text/plain": [
              "12"
            ]
          },
          "metadata": {},
          "execution_count": 23
        }
      ]
    },
    {
      "cell_type": "code",
      "source": [
        "my_string"
      ],
      "metadata": {
        "id": "E1J8DOuiNFYn",
        "colab": {
          "base_uri": "https://localhost:8080/",
          "height": 36
        },
        "outputId": "1054e76a-3d83-4eb8-b8de-d68e5a921b37"
      },
      "execution_count": 24,
      "outputs": [
        {
          "output_type": "execute_result",
          "data": {
            "text/plain": [
              "'I love Chris'"
            ],
            "application/vnd.google.colaboratory.intrinsic+json": {
              "type": "string"
            }
          },
          "metadata": {},
          "execution_count": 24
        }
      ]
    },
    {
      "cell_type": "markdown",
      "metadata": {
        "id": "okL-hG9kIHbY"
      },
      "source": [
        "##### ==================================================================================================\n",
        "## String Indexing\n",
        "\n",
        "Python allows us to extract characters at specific index locations within a string. All index by default start with index 0.\n",
        "\n",
        "Recall `my_string` is now defined as `I love Chris`\n",
        "\n",
        "<img src=\"https://tinyurl.com/jakceks4\" style=\"float: left; margin: 20px; height: 120px\">"
      ]
    },
    {
      "cell_type": "markdown",
      "metadata": {
        "id": "zXNjVr6YIHbY"
      },
      "source": [
        "##### ==================================================================================================\n",
        "*Select the first index character in* `my_string`\n",
        "\n",
        "Example:"
      ]
    },
    {
      "cell_type": "code",
      "execution_count": 25,
      "metadata": {
        "id": "32iuXdWLIHbZ",
        "outputId": "f69441a6-2ff6-47cb-9054-f97fbe7096cf",
        "colab": {
          "base_uri": "https://localhost:8080/",
          "height": 36
        }
      },
      "outputs": [
        {
          "output_type": "execute_result",
          "data": {
            "text/plain": [
              "'I'"
            ],
            "application/vnd.google.colaboratory.intrinsic+json": {
              "type": "string"
            }
          },
          "metadata": {},
          "execution_count": 25
        }
      ],
      "source": [
        "my_string[0]"
      ]
    },
    {
      "cell_type": "markdown",
      "metadata": {
        "id": "k1SFUDPBIHbZ"
      },
      "source": [
        "*Select the fifth index character in* `my_string`"
      ]
    },
    {
      "cell_type": "code",
      "execution_count": 26,
      "metadata": {
        "id": "I-0dKeTkIHbZ",
        "outputId": "cb29b694-88f8-472f-f5b6-08c7600013a0",
        "colab": {
          "base_uri": "https://localhost:8080/",
          "height": 36
        }
      },
      "outputs": [
        {
          "output_type": "execute_result",
          "data": {
            "text/plain": [
              "'v'"
            ],
            "application/vnd.google.colaboratory.intrinsic+json": {
              "type": "string"
            }
          },
          "metadata": {},
          "execution_count": 26
        }
      ],
      "source": [
        "my_string[4]"
      ]
    },
    {
      "cell_type": "markdown",
      "metadata": {
        "id": "lz8-cYFVIHbZ"
      },
      "source": [
        "##### ==================================================================================================\n",
        "\"Slicing: is a process by which you may pass a range of index values to select multiple elements in a string. In general, slicing in Python is inclusive on the left and exclusive on the right. In mathematics think of a interval from `[a,b)`. the general format for slicing a string is `x[start:end]` such that `x` represents the string\n",
        "\n",
        "Example:"
      ]
    },
    {
      "cell_type": "code",
      "execution_count": 27,
      "metadata": {
        "id": "WFuENyjNIHbZ",
        "colab": {
          "base_uri": "https://localhost:8080/",
          "height": 36
        },
        "outputId": "e16855ff-ef3f-4437-eb0a-4f5e56cc0c97"
      },
      "outputs": [
        {
          "output_type": "execute_result",
          "data": {
            "text/plain": [
              "'I love Ch'"
            ],
            "application/vnd.google.colaboratory.intrinsic+json": {
              "type": "string"
            }
          },
          "metadata": {},
          "execution_count": 27
        }
      ],
      "source": [
        "my_string[0:9]"
      ]
    },
    {
      "cell_type": "markdown",
      "metadata": {
        "id": "BLara2qoIHba"
      },
      "source": [
        "Example:"
      ]
    },
    {
      "cell_type": "code",
      "execution_count": 28,
      "metadata": {
        "id": "_PFYogCJIHba",
        "colab": {
          "base_uri": "https://localhost:8080/",
          "height": 36
        },
        "outputId": "e7fc580f-0864-424e-c361-f19b4bc240c2"
      },
      "outputs": [
        {
          "output_type": "execute_result",
          "data": {
            "text/plain": [
              "'ove Chr'"
            ],
            "application/vnd.google.colaboratory.intrinsic+json": {
              "type": "string"
            }
          },
          "metadata": {},
          "execution_count": 28
        }
      ],
      "source": [
        "my_string[3:10]"
      ]
    },
    {
      "cell_type": "markdown",
      "metadata": {
        "id": "cQxL83VsIHba"
      },
      "source": [
        "##### ==================================================================================================\n",
        "You may also control the increments of your slices (default is 1) by adding on one extra component to the general format `x[start:end:step]`\n",
        "\n",
        "*Slice every third character starting at 0 and ending at 12. Remember spaces count as a character*\n",
        "\n",
        "Example:"
      ]
    },
    {
      "cell_type": "code",
      "execution_count": 29,
      "metadata": {
        "id": "WjE3Op-FIHba",
        "colab": {
          "base_uri": "https://localhost:8080/",
          "height": 36
        },
        "outputId": "ae170b58-2c30-4929-f30f-b8b8c06b3983"
      },
      "outputs": [
        {
          "output_type": "execute_result",
          "data": {
            "text/plain": [
              "'Ilv hi'"
            ],
            "application/vnd.google.colaboratory.intrinsic+json": {
              "type": "string"
            }
          },
          "metadata": {},
          "execution_count": 29
        }
      ],
      "source": [
        "my_string[0:12:2]"
      ]
    },
    {
      "cell_type": "markdown",
      "metadata": {
        "id": "VN8ceINFIHba"
      },
      "source": [
        "##### ==================================================================================================\n",
        "*Reversing string `my_string`*\n",
        "\n",
        "Example:"
      ]
    },
    {
      "cell_type": "code",
      "execution_count": 30,
      "metadata": {
        "id": "I1CzcIDcIHba",
        "outputId": "36a650f7-7c5d-4e08-b198-86d5623636aa",
        "colab": {
          "base_uri": "https://localhost:8080/",
          "height": 36
        }
      },
      "outputs": [
        {
          "output_type": "execute_result",
          "data": {
            "text/plain": [
              "'sirhC evol I'"
            ],
            "application/vnd.google.colaboratory.intrinsic+json": {
              "type": "string"
            }
          },
          "metadata": {},
          "execution_count": 30
        }
      ],
      "source": [
        "my_string[\n",
        "\n",
        "          ::-1]\n"
      ]
    },
    {
      "cell_type": "markdown",
      "metadata": {
        "id": "xvbLkKhMIHbb"
      },
      "source": [
        "##### ==================================================================================================\n",
        "*Select the last character in the string `my_string`*\n",
        "\n",
        "Example:"
      ]
    },
    {
      "cell_type": "markdown",
      "metadata": {
        "id": "VWMmdj6zIHbb"
      },
      "source": [
        "##### ==================================================================================================\n",
        "### Lists\n",
        "\n",
        "A `list` is a mutable sequence of objects in Python that may contain any combination of types\n",
        "\n",
        "<b>WARNING:</b> Using `list` as a variable name will overwrite the built-in Python function. `list = [0,1,2,3,4,5]`. <b>Do not do this!</b>"
      ]
    },
    {
      "cell_type": "markdown",
      "metadata": {
        "id": "5MyXqkPjIHbc"
      },
      "source": [
        "##### ==================================================================================================\n",
        "Creating a sample list\n",
        "\n",
        "Example:"
      ]
    },
    {
      "cell_type": "code",
      "execution_count": 31,
      "metadata": {
        "id": "35EI2Id-IHbc",
        "outputId": "97228d63-4677-4b67-fffc-9933d057186f",
        "colab": {
          "base_uri": "https://localhost:8080/"
        }
      },
      "outputs": [
        {
          "output_type": "stream",
          "name": "stdout",
          "text": [
            "['apple', 'orange', 'grape', 'pineapple', 'cherry', 'lemon']\n"
          ]
        }
      ],
      "source": [
        "my_list = [\"apple\",\"orange\",\"grape\",\"pineapple\",\"cherry\",\"lemon\"]\n",
        "print(my_list)"
      ]
    },
    {
      "cell_type": "markdown",
      "metadata": {
        "id": "ir8IB5zWIHbc"
      },
      "source": [
        "##### ==================================================================================================\n",
        "Recall `list` are mutable so you may modify them as you like\n",
        "\n",
        "Example:"
      ]
    },
    {
      "cell_type": "code",
      "execution_count": 32,
      "metadata": {
        "id": "r0vEyDv7IHbc",
        "colab": {
          "base_uri": "https://localhost:8080/"
        },
        "outputId": "372cb1c9-5a96-436e-9e7d-01d7840af572"
      },
      "outputs": [
        {
          "output_type": "stream",
          "name": "stdout",
          "text": [
            "['apple', 'orange', 'grape', 'RED', 'cherry', 'lemon']\n"
          ]
        }
      ],
      "source": [
        "my_list[3] = \"RED\"\n",
        "print(my_list)\n"
      ]
    },
    {
      "cell_type": "markdown",
      "metadata": {
        "id": "vGkqIm3XIHbc"
      },
      "source": [
        "##### ==================================================================================================\n",
        "*Adding new item to the list via append*\n",
        "\n",
        "Example:"
      ]
    },
    {
      "cell_type": "code",
      "execution_count": 33,
      "metadata": {
        "id": "xLdNHwaGIHbc",
        "colab": {
          "base_uri": "https://localhost:8080/"
        },
        "outputId": "9002c57a-c620-4372-bc96-037f27d300cb"
      },
      "outputs": [
        {
          "output_type": "stream",
          "name": "stdout",
          "text": [
            "['apple', 'orange', 'grape', 'RED', 'cherry', 'lemon', 'BLUE']\n"
          ]
        }
      ],
      "source": [
        "my_list.append(\"BLUE\")\n",
        "print(my_list)"
      ]
    },
    {
      "cell_type": "markdown",
      "metadata": {
        "id": "ZC_z_U2eIHbd"
      },
      "source": [
        "##### ==================================================================================================\n",
        "### Tuples\n",
        "\n",
        "A `tuple` is a sequence of objects may contain any combination of types which is ordered and immutable.\n",
        "\n",
        "Example:"
      ]
    },
    {
      "cell_type": "code",
      "execution_count": 34,
      "metadata": {
        "id": "_Vgg4Or7IHbd",
        "outputId": "bf2628ed-f78d-4de5-fee2-9a44e4f3ea6d",
        "colab": {
          "base_uri": "https://localhost:8080/"
        }
      },
      "outputs": [
        {
          "output_type": "stream",
          "name": "stdout",
          "text": [
            "(0, 1, 3, 4, 5)\n"
          ]
        }
      ],
      "source": [
        "my_tuple = (0,1,3,4,5)\n",
        "print(my_tuple)\n"
      ]
    },
    {
      "cell_type": "code",
      "source": [
        "type(my_tuple[2])"
      ],
      "metadata": {
        "id": "B1ROYZaGYBbG",
        "outputId": "b7215092-8ae7-4775-f221-28f0202827e8",
        "colab": {
          "base_uri": "https://localhost:8080/"
        }
      },
      "execution_count": 35,
      "outputs": [
        {
          "output_type": "execute_result",
          "data": {
            "text/plain": [
              "int"
            ]
          },
          "metadata": {},
          "execution_count": 35
        }
      ]
    },
    {
      "cell_type": "markdown",
      "metadata": {
        "id": "J0QZ9hiQIHbd"
      },
      "source": [
        "##### ==================================================================================================\n",
        "*Slice tuple from index 2 to 5*\n",
        "\n",
        "Example:"
      ]
    },
    {
      "cell_type": "code",
      "execution_count": 36,
      "metadata": {
        "id": "Ftrxx533IHbd",
        "outputId": "7ec1f97e-0e0d-4187-919f-fdf0811b473c",
        "colab": {
          "base_uri": "https://localhost:8080/"
        }
      },
      "outputs": [
        {
          "output_type": "stream",
          "name": "stdout",
          "text": [
            "(3, 4, 5)\n"
          ]
        }
      ],
      "source": [
        "print(my_tuple[2:5])"
      ]
    },
    {
      "cell_type": "markdown",
      "metadata": {
        "id": "k75poPS0IHbd"
      },
      "source": [
        "##### ==================================================================================================\n",
        "### Range\n",
        "\n",
        "The `range` function  can be used to create a sequence of numbers. The order of arguments is start, stop, step, just like in slicing.\n",
        "##### ==================================================================================================\n",
        "*Creating a sequence of numbers from  0 to 10 `range` function*\n",
        "\n",
        "Example:"
      ]
    },
    {
      "cell_type": "code",
      "execution_count": 37,
      "metadata": {
        "id": "qrHEYgxhIHbe",
        "colab": {
          "base_uri": "https://localhost:8080/"
        },
        "outputId": "711ff40d-4e9b-4e76-df12-fb4f68374687"
      },
      "outputs": [
        {
          "output_type": "execute_result",
          "data": {
            "text/plain": [
              "[0, 1, 2, 3, 4, 5, 6, 7, 8, 9]"
            ]
          },
          "metadata": {},
          "execution_count": 37
        }
      ],
      "source": [
        "list(range(0, 10))"
      ]
    },
    {
      "cell_type": "markdown",
      "metadata": {
        "id": "2XYAOTDRIHbe"
      },
      "source": [
        "##### ==================================================================================================\n",
        "*Creating a sequence of numbers from 1 to 10, incrementing by 2 using `range` function*\n",
        "\n",
        "Example:"
      ]
    },
    {
      "cell_type": "code",
      "execution_count": 38,
      "metadata": {
        "id": "06sGV-ybIHbe",
        "colab": {
          "base_uri": "https://localhost:8080/"
        },
        "outputId": "32371850-de98-4265-e5e5-03ad7b4d700c"
      },
      "outputs": [
        {
          "output_type": "execute_result",
          "data": {
            "text/plain": [
              "[0, 2, 4, 6, 8]"
            ]
          },
          "metadata": {},
          "execution_count": 38
        }
      ],
      "source": [
        "list(range(0, 10, 2))"
      ]
    },
    {
      "cell_type": "markdown",
      "metadata": {
        "id": "uecfeLKKIHbe"
      },
      "source": [
        "Example:"
      ]
    },
    {
      "cell_type": "code",
      "execution_count": 39,
      "metadata": {
        "id": "loKi38rRIHbe",
        "colab": {
          "base_uri": "https://localhost:8080/"
        },
        "outputId": "287c6df8-c047-484c-9ca8-941502182e76"
      },
      "outputs": [
        {
          "output_type": "execute_result",
          "data": {
            "text/plain": [
              "[0, 2, 4, 6, 8]"
            ]
          },
          "metadata": {},
          "execution_count": 39
        }
      ],
      "source": [
        "list(range(0, 9, 2))"
      ]
    },
    {
      "cell_type": "markdown",
      "metadata": {
        "id": "4vemU5oNIHbe"
      },
      "source": [
        "##### ==================================================================================================\n",
        "### Dictionaries\n",
        "\n",
        "A `Dictionary` is an ordered collection of key-value pairs, where the key indicates the location of some data and the value is the data that a key points to. They are mutable, but do not allow duplicate keys.\n",
        "##### =================================================================================================="
      ]
    },
    {
      "cell_type": "markdown",
      "metadata": {
        "id": "xK9wG6S-IHbf"
      },
      "source": [
        "*Creating a dictionary that maps the first name, last name and gender of the individual*"
      ]
    },
    {
      "cell_type": "code",
      "execution_count": 40,
      "metadata": {
        "id": "KXboDZtRIHbf",
        "outputId": "f6a7624e-8f04-44c7-8496-8472f48998c8",
        "colab": {
          "base_uri": "https://localhost:8080/"
        }
      },
      "outputs": [
        {
          "output_type": "stream",
          "name": "stdout",
          "text": [
            "Chris\n",
            "Chan\n",
            "Male\n"
          ]
        }
      ],
      "source": [
        "my_dict = {\"first_name\": \"Chris\", \"last_name\": \"Chan\", \"gender\": \"Male\"}\n",
        "print(my_dict[\"first_name\"])\n",
        "print(my_dict[\"last_name\"])\n",
        "print(my_dict[\"gender\"])"
      ]
    },
    {
      "cell_type": "markdown",
      "metadata": {
        "id": "mAHwTjbBIHbf"
      },
      "source": [
        "##### ==================================================================================================\n",
        "*Add an entry for \"height\" of the individual*\n",
        "\n",
        "Example:"
      ]
    },
    {
      "cell_type": "code",
      "execution_count": 41,
      "metadata": {
        "id": "wEA1x2hMIHbf",
        "outputId": "64155877-efc0-4992-987b-a49ae4ca3293",
        "colab": {
          "base_uri": "https://localhost:8080/"
        }
      },
      "outputs": [
        {
          "output_type": "stream",
          "name": "stdout",
          "text": [
            "{'first_name': 'Chris', 'last_name': 'Chan', 'gender': 'Male', 'height_cm': 173}\n",
            "Chris\n",
            "Chan\n",
            "Male\n",
            "173\n"
          ]
        }
      ],
      "source": [
        "my_dict[\"height_cm\"] = 173\n",
        "print(my_dict)\n",
        "print(my_dict[\"first_name\"])\n",
        "print(my_dict[\"last_name\"])\n",
        "print(my_dict[\"gender\"])\n",
        "print(my_dict[\"height_cm\"])"
      ]
    },
    {
      "cell_type": "markdown",
      "metadata": {
        "id": "W1bpxRzUIHbf"
      },
      "source": [
        "##### ==================================================================================================\n",
        "### Summary\n",
        "- Python has the following built-in types (among others):\n",
        "    - Single-element:\n",
        "        - `int` whole numbers\n",
        "        - `float` decimal numbers\n",
        "        - `bool` `True` or `False`\n",
        "        \n",
        "    - Container:\n",
        "        - `str` for sequences of characters\n",
        "        - `list` for holding arbitrary objects and is mutable\n",
        "        - `tuple` for holding arbitrary objects but is immutable\n",
        "        - `dict` for storing arbitrary objects in key:value pairs\n",
        "        \n",
        "- Ordered container types such as `str`, `list`, and `tuple` allow you to select items by position.\n",
        "- The built-in `range` function returns a sequence of numbers, starting from 0 by default, and increments by 1 (by default), and stops before a specified number.\n",
        "- Python has built-in functions such as `len` that take in object and returns the number of items in an object.\n",
        "- Python types have built-in methods such as `str.replace`, replaces a specified phrase with another specified phrase."
      ]
    },
    {
      "cell_type": "markdown",
      "metadata": {
        "id": "zfclQ__AIHbg"
      },
      "source": [
        "##### ==================================================================================================\n",
        "### Exercise 1:\n",
        "\n",
        "Assign any `int` value to a variable we call `x`. Then use the `assignment operators` to reassign the value of `x` by carrying out the following steps:\n",
        "\n",
        "1. Double the variable `x`\n",
        "2. Add 6 to the variable `x`\n",
        "3. Divide the variable `x` by 2\n",
        "4. Subtract your initial value from `x`\n",
        "5. Use the `assert` function in python to establish that x == 3 (An error will occur if an error is made)"
      ]
    },
    {
      "cell_type": "code",
      "execution_count": 42,
      "metadata": {
        "id": "fBIP5QiWIHbg",
        "outputId": "e098e5a4-1301-4436-e97c-c77888db6970",
        "colab": {
          "base_uri": "https://localhost:8080/"
        }
      },
      "outputs": [
        {
          "output_type": "stream",
          "name": "stdout",
          "text": [
            "3.0\n"
          ]
        }
      ],
      "source": [
        "# Write your solution here\n",
        "# Assign an initial value to x\n",
        "x = 2  # You can choose any integer as your initial value\n",
        "\n",
        "# Perform the operations\n",
        "x *= 2   # Double the variable x\n",
        "x += 6   # Add 6 to the variable x\n",
        "x /= 2   # Divide the variable x by 2\n",
        "x -= 2   # Subtract your initial value from x\n",
        "\n",
        "# Use the assert function to check if x equals 3\n",
        "print(x)\n",
        "assert x == 3\n"
      ]
    },
    {
      "cell_type": "markdown",
      "metadata": {
        "id": "0xuxw0XPIHbg"
      },
      "source": [
        "##### ==================================================================================================\n",
        "### Exercise 2:\n",
        "\n",
        "Create a string called `my_name` that contains the letters of your first name in all lower case letters"
      ]
    },
    {
      "cell_type": "code",
      "execution_count": 43,
      "metadata": {
        "id": "AeWB0mv4IHbg"
      },
      "outputs": [],
      "source": [
        "# Write your solution here\n",
        "my_name = \"Derik\""
      ]
    },
    {
      "cell_type": "markdown",
      "metadata": {
        "id": "z1Z5wYYiIHbh"
      },
      "source": [
        "Create another string called `my_intro` that that contains the sentence `\"hello my job is \"` in all lower case letters"
      ]
    },
    {
      "cell_type": "code",
      "execution_count": 44,
      "metadata": {
        "id": "HZZaDtFvIHbh"
      },
      "outputs": [],
      "source": [
        "# Write your solution here\n",
        "my_intro = \"hello my job is \""
      ]
    },
    {
      "cell_type": "markdown",
      "metadata": {
        "id": "ErjwHDmDIHbh"
      },
      "source": [
        "Reassign the string `my_intro` and use the `.replace` function to replace the word `\"job\"` with `\"name\"`"
      ]
    },
    {
      "cell_type": "code",
      "execution_count": 45,
      "metadata": {
        "id": "J9exauBzIHbh",
        "colab": {
          "base_uri": "https://localhost:8080/"
        },
        "outputId": "af8e9092-9ffc-43d5-c4a3-eb46da9af6e4"
      },
      "outputs": [
        {
          "output_type": "stream",
          "name": "stdout",
          "text": [
            "Hello My Name Is \n"
          ]
        }
      ],
      "source": [
        "# Write your solution here\n",
        "\n",
        "my_intro = \"hello my job is \"\n",
        "my_intro = my_intro.replace(\"job\", \"name\")\n",
        "print(my_intro.title())"
      ]
    },
    {
      "cell_type": "markdown",
      "metadata": {
        "id": "ajdB4j53IHbh"
      },
      "source": [
        "Use the addition `+` operator to concate the string `my_intro` followed by `my_name`. Be sure to utilize proper spacing with `\" \"` when needed"
      ]
    },
    {
      "cell_type": "code",
      "execution_count": 46,
      "metadata": {
        "id": "YMuq5rm_IHbi",
        "colab": {
          "base_uri": "https://localhost:8080/",
          "height": 36
        },
        "outputId": "5414b22f-5a89-449b-8086-d63057d42671"
      },
      "outputs": [
        {
          "output_type": "execute_result",
          "data": {
            "text/plain": [
              "'Hello My Name Is Derik'"
            ],
            "application/vnd.google.colaboratory.intrinsic+json": {
              "type": "string"
            }
          },
          "metadata": {},
          "execution_count": 46
        }
      ],
      "source": [
        "# Write your solution here\n",
        "my_intro.title() + my_name"
      ]
    },
    {
      "cell_type": "markdown",
      "metadata": {
        "id": "16IJOqmvIHbi"
      },
      "source": [
        "##### ==================================================================================================\n",
        "### Exercise 3:\n",
        "\n",
        "Create a string called `your_slice` that contains the letters `\"thisiswhycoopisthebest\"`. Then slice the string `your_slice` to obtain the letters `coop` as an output"
      ]
    },
    {
      "cell_type": "code",
      "execution_count": 47,
      "metadata": {
        "id": "0NacFMVSIHbi",
        "colab": {
          "base_uri": "https://localhost:8080/"
        },
        "outputId": "055bca3c-b5a5-4a55-fd1b-ad80a5868d13"
      },
      "outputs": [
        {
          "output_type": "stream",
          "name": "stdout",
          "text": [
            "ycoop\n"
          ]
        }
      ],
      "source": [
        "# Write your solution here\n",
        "# Create the string your_slice\n",
        "your_slice = \"thisiswhycoopisthebest\"\n",
        "\n",
        "# Slice the string to obtain \"coop\"\n",
        "result = your_slice[8:13]\n",
        "\n",
        "# Print the result\n",
        "print(result)\n"
      ]
    },
    {
      "cell_type": "code",
      "source": [
        "\"\"\"\n",
        "This section was created by Derik Vo to give a preview on functions and how to combine everything we learned,\n",
        "and will learn in the next few sections.\n",
        "\n",
        "\"\"\"\n",
        "#creats a \"function\"\n",
        "def substrindx(sub):\n",
        "  #assert to determine if our input is a string\n",
        "    assert isinstance(sub, str), 'not a string'\n",
        "    #have a string to compare against (ideally should also be an input)\n",
        "    your_slice = \"thisiswhycoopisthebest\"\n",
        "    #finds the index of our input\n",
        "    index = your_slice.rfind(sub)\n",
        "  #determind if out input (sub) was found in the string, will return -1 if false\n",
        "    if index != -1:\n",
        "      #finds the index of the last latter of our input\n",
        "        last_letter_index = index + len(sub)\n",
        "        print(f\"Substring '{sub}' found at index {index}. Last letter index: {last_letter_index}\")\n",
        "    else:\n",
        "        print(f\"Substring '{sub}' not found in the string.\")"
      ],
      "metadata": {
        "id": "Q25JAsXwZCuB"
      },
      "execution_count": 48,
      "outputs": []
    },
    {
      "cell_type": "code",
      "source": [
        "substrindx('coop')"
      ],
      "metadata": {
        "id": "4-qfxMnCaC5F",
        "outputId": "f9713811-b621-4498-8acd-a10132ba8594",
        "colab": {
          "base_uri": "https://localhost:8080/"
        }
      },
      "execution_count": 49,
      "outputs": [
        {
          "output_type": "stream",
          "name": "stdout",
          "text": [
            "Substring 'coop' found at index 9. Last letter index: 13\n"
          ]
        }
      ]
    },
    {
      "cell_type": "markdown",
      "metadata": {
        "id": "5lo_FcsBIHbi"
      },
      "source": [
        "##### ==================================================================================================\n",
        "### Exercise 4:\n",
        "\n",
        "Create a list called `my_list` that contains the integers 1,2,3,4,5. Then append the string `six` to `my_list`"
      ]
    },
    {
      "cell_type": "code",
      "execution_count": 50,
      "metadata": {
        "id": "gN7NOpwFIHbi",
        "colab": {
          "base_uri": "https://localhost:8080/"
        },
        "outputId": "6fbd2ad5-d663-4c54-9e05-4de5de7a0aa9"
      },
      "outputs": [
        {
          "output_type": "stream",
          "name": "stdout",
          "text": [
            "[1, 2, 3, 4, 5, 'six']\n"
          ]
        }
      ],
      "source": [
        "# Write your solution here\n",
        "# Create the list my_list with integers 1 through 5\n",
        "my_list = [1, 2, 3, 4, 5]\n",
        "\n",
        "# Append the string \"six\" to my_list\n",
        "my_list.append(\"six\")\n",
        "\n",
        "# Print the updated list\n",
        "print(my_list)"
      ]
    }
  ],
  "metadata": {
    "colab": {
      "provenance": [],
      "toc_visible": true,
      "include_colab_link": true
    },
    "kernelspec": {
      "display_name": "Python 3",
      "language": "python",
      "name": "python3"
    },
    "language_info": {
      "codemirror_mode": {
        "name": "ipython",
        "version": 3
      },
      "file_extension": ".py",
      "mimetype": "text/x-python",
      "name": "python",
      "nbconvert_exporter": "python",
      "pygments_lexer": "ipython3",
      "version": "3.8.5"
    }
  },
  "nbformat": 4,
  "nbformat_minor": 0
}