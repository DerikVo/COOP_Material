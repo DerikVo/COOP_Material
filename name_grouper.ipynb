{
  "nbformat": 4,
  "nbformat_minor": 0,
  "metadata": {
    "colab": {
      "provenance": [],
      "authorship_tag": "ABX9TyNuBXcz9WMTqopOd9BLrMxr",
      "include_colab_link": true
    },
    "kernelspec": {
      "name": "python3",
      "display_name": "Python 3"
    },
    "language_info": {
      "name": "python"
    }
  },
  "cells": [
    {
      "cell_type": "markdown",
      "metadata": {
        "id": "view-in-github",
        "colab_type": "text"
      },
      "source": [
        "<a href=\"https://colab.research.google.com/github/DerikVo/COOP_Teaching_Material/blob/main/name_grouper.ipynb\" target=\"_parent\"><img src=\"https://colab.research.google.com/assets/colab-badge.svg\" alt=\"Open In Colab\"/></a>"
      ]
    },
    {
      "cell_type": "markdown",
      "source": [
        "# Version 1\n",
        "\n",
        "This code groups names into specified sizes. Any reminder is printed, so users will need to either randomly place them in a group or place them into a group based on known skill level."
      ],
      "metadata": {
        "id": "8jK8VS0zzOr8"
      }
    },
    {
      "cell_type": "code",
      "source": [
        "import random\n",
        "#function to group names\n",
        "def print_groups(names, group_size):\n",
        "    #shuffle names so we can group by iterating\n",
        "    random.shuffle(names)\n",
        "    #loops through the list counting by group size\n",
        "    for i in range(0, len(names), group_size):\n",
        "        #gets the indexs of the group member name\n",
        "        group = names[i:i+group_size]\n",
        "        if len(group) % group_size == 0:\n",
        "            print(\"Group:\", \", \".join(group)) # .join prints the names so its not a list\n",
        "        else:\n",
        "            print(\"Remainder:\", group[0::])\n",
        "# List of names\n",
        "names = ['Name_1',\n",
        "         'Name_2',\n",
        "         'Name_3',\n",
        "         'Name_4',\n",
        "         'Name_5',\n",
        "         'Name_6',\n",
        "         'Name_7',\n",
        "         'Name_8',\n",
        "         'Name_9',\n",
        "         'Name_10',\n",
        "         'Name_11',\n",
        "         'Name_12',\n",
        "         'Name_13'\n",
        "         ]\n",
        "# Second parameter sets the group sizes\n",
        "print_groups(names, 3)"
      ],
      "metadata": {
        "colab": {
          "base_uri": "https://localhost:8080/"
        },
        "id": "2TA9yFpX1kqD",
        "outputId": "c84930d4-13a8-4bfd-af3d-0c39d8d7aaf9"
      },
      "execution_count": 31,
      "outputs": [
        {
          "output_type": "stream",
          "name": "stdout",
          "text": [
            "Group: Name_12, Name_11, Name_13\n",
            "Group: Name_6, Name_1, Name_10\n",
            "Group: Name_2, Name_4, Name_8\n",
            "Group: Name_3, Name_7, Name_9\n",
            "Remainder: ['Name_5']\n"
          ]
        }
      ]
    },
    {
      "cell_type": "markdown",
      "source": [
        "# Version 2\n",
        "\n",
        "This code uses version 1 as a prompt for Chat GPT to place the remainders into a group."
      ],
      "metadata": {
        "id": "LsF4_AhtziEN"
      }
    },
    {
      "cell_type": "code",
      "source": [
        "import random\n",
        "\n",
        "def print_groups(names, group_size):\n",
        "    random.shuffle(names)  # Shuffle the list of names\n",
        "\n",
        "    remainder = len(names) % group_size  # Calculate the remainder\n",
        "    if remainder:  # If there's a remainder\n",
        "        remainder_group = names[-remainder:]  # Extract the remainder elements\n",
        "        names = names[:-remainder]  # Remove the remainder from the main list\n",
        "\n",
        "        # Iterate over the existing groups and assign remainders\n",
        "        for i in range(0, len(names), group_size):\n",
        "            group = names[i:i+group_size]  # Get a group of specified size\n",
        "            if remainder_group:  # If there are remainders left\n",
        "                group.append(remainder_group.pop())  # Assign a remainder to the group\n",
        "            print(\"Group:\", \", \".join(group))  # Print the group\n",
        "    else:  # If there's no remainder\n",
        "        # Iterate over the existing groups and print them\n",
        "        for i in range(0, len(names), group_size):\n",
        "            group = names[i:i+group_size]  # Get a group of specified size\n",
        "            print(\"Group:\", \", \".join(group))  # Print the group\n",
        "\n",
        "names = ['Name_1',\n",
        "         'Name_2',\n",
        "         'Name_3',\n",
        "         'Name_4',\n",
        "         'Name_5',\n",
        "         'Name_6',\n",
        "         'Name_7',\n",
        "         'Name_8',\n",
        "         'Name_9',\n",
        "         'Name_10',\n",
        "         'Name_11',\n",
        "         'Name_12',\n",
        "         'Name_13'\n",
        "         ]\n",
        "\n",
        "group_size = 3  # You can adjust this number to change the group size\n",
        "print_groups(names, group_size)"
      ],
      "metadata": {
        "colab": {
          "base_uri": "https://localhost:8080/"
        },
        "id": "xAQTAGY114Ru",
        "outputId": "23727efe-8579-485a-bd8f-70a10fffe0c4"
      },
      "execution_count": 32,
      "outputs": [
        {
          "output_type": "stream",
          "name": "stdout",
          "text": [
            "Group: Name_10, Name_1, Name_11, Name_4\n",
            "Group: Name_3, Name_13, Name_5\n",
            "Group: Name_12, Name_6, Name_8\n",
            "Group: Name_2, Name_9, Name_7\n"
          ]
        }
      ]
    }
  ]
}