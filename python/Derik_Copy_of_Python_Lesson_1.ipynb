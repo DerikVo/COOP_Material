{
  "cells": [
    {
      "cell_type": "markdown",
      "metadata": {
        "id": "view-in-github",
        "colab_type": "text"
      },
      "source": [
        "<a href=\"https://colab.research.google.com/github/DerikVo/COOP_Material/blob/main/python/Derik_Copy_of_Python_Lesson_1.ipynb\" target=\"_parent\"><img src=\"https://colab.research.google.com/assets/colab-badge.svg\" alt=\"Open In Colab\"/></a>"
      ]
    },
    {
      "cell_type": "markdown",
      "metadata": {
        "id": "ELzkR4zPIHa5"
      },
      "source": [
        "<img src=\"https://tinyurl.com/k2t79s6t\" style=\"float: left; margin: 20px; height: 55px\">\n",
        "\n",
        "# Basic Python Fundamentals\n",
        "\n",
        "_Authors: Christopher Chan_\n",
        "\n",
        "_Facilitated by: Derik Vo_\n",
        "\n",
        "Original notebook:\n",
        "\n",
        "[link](https://colab.research.google.com/drive/1FSl2dWSDyDd3Rq5gfWU-b2Ks8AcLKAoK?usp=share_link\n",
        ")\n",
        "\n",
        "\n",
        "The thing to pay attention is the code listed below, which will combine everything we learned and things **we will** learn later. If you have any questions about the code message me (Derik Vo capt C### on slack, or if im not teaching a cycle message my alumni acount)\n",
        "\n",
        "[Combining everything](# combining_everything)\n"
      ]
    },
    {
      "cell_type": "markdown",
      "metadata": {
        "id": "_lcClxj9IHbC"
      },
      "source": [
        "### Objective\n",
        "\n",
        "Upon completion of this lesson you should be able to understand the following:\n",
        "1. Variable creation and naming convention\n",
        "2. Object types\n",
        "3. Basic mathematic operations, Booleans and Logical Operators\n",
        "4. Index and Slicing\n",
        "5. Strings\n",
        "6. Lists, Tuples, Dictionaries and Mutability\n",
        "\n",
        "This will help us understand the basic fundamentals to python"
      ]
    },
    {
      "cell_type": "markdown",
      "metadata": {
        "id": "CnppWrBcIHbE"
      },
      "source": [
        "##### ==================================================================================================\n",
        "### Variables\n",
        "\n",
        "Variables are names that have been assigned to specific objects."
      ]
    },
    {
      "cell_type": "markdown",
      "metadata": {
        "id": "FqNJpBuRIHbF"
      },
      "source": [
        "##### ==================================================================================================\n",
        "Create a variable called `num_coopers` to represent the number of COOPers in class. Assume the number is 16.\n",
        "\n",
        "Example:"
      ]
    },
    {
      "cell_type": "code",
      "execution_count": null,
      "metadata": {
        "id": "kNIr-qYSIHbF",
        "colab": {
          "base_uri": "https://localhost:8080/"
        },
        "outputId": "3ac972c9-400e-4927-9394-a75fb3f6ac57"
      },
      "outputs": [
        {
          "output_type": "stream",
          "name": "stdout",
          "text": [
            "16\n"
          ]
        }
      ],
      "source": [
        "num_coopers = 16\n",
        "\n",
        "print(num_coopers)"
      ]
    },
    {
      "cell_type": "markdown",
      "metadata": {
        "id": "KGCcI3FHIHbH"
      },
      "source": [
        "##### ==================================================================================================\n",
        "Create a variable `num_capt` to represent the number of captains in class. Assume the number is 4.\n",
        "\n",
        "Example:"
      ]
    },
    {
      "cell_type": "code",
      "execution_count": null,
      "metadata": {
        "id": "Uh1q5JdTIHbJ",
        "colab": {
          "base_uri": "https://localhost:8080/"
        },
        "outputId": "d56058d8-183f-47e1-bee0-8cdfb1e13ab7"
      },
      "outputs": [
        {
          "output_type": "stream",
          "name": "stdout",
          "text": [
            "4\n"
          ]
        }
      ],
      "source": [
        "num_capt = 4\n",
        "\n",
        "print(num_capt)"
      ]
    },
    {
      "cell_type": "markdown",
      "metadata": {
        "id": "nIMZh-9eIHbK"
      },
      "source": [
        "##### ==================================================================================================\n",
        "### Restrictions on Variable Names\n",
        "\n",
        "- Cannot start with numbers (i.e., `5`, `5_head`).\n",
        "- Cannot match names of Python keywords (i.e., '`for`', '`and`', '`elif`').\n",
        "- Cannot contain spaces or periods."
      ]
    },
    {
      "cell_type": "markdown",
      "metadata": {
        "id": "twM5RzshvrYy"
      },
      "source": [
        "#### ✋🏼 Callout !!\n",
        "\n",
        "Python is case-sensitive. This means that variables like these: `coop_careers` and `COOP_careers` are not the same!"
      ]
    },
    {
      "cell_type": "markdown",
      "metadata": {
        "id": "EEP3rRJTIHbM"
      },
      "source": [
        "##### ==================================================================================================\n",
        "### Best Practices for Variable Names\n",
        "- Should be *unambiguous* and *descriptive*\n",
        "- Short and clear variable names are best\n",
        "- Lowercase variables with underscores between words (i.e., '`coop_student`', '`coop_captain`')"
      ]
    },
    {
      "cell_type": "markdown",
      "metadata": {
        "id": "qZG3JMhEvrYz"
      },
      "source": [
        "##### ==================================================================================================\n",
        "### Objects in Python\n",
        "\n",
        "The concept of objects (and by extension Object Oriented Programming) is something that can take a whole introductory course to explain, but for our purposes\n",
        "we only need to know a few key things:\n",
        "\n",
        "1. In Python, everything is an object (including functions!). Variables always reference some kind of object\n",
        "2. All objects have three properties that we are concerned with: attributes, methods, and types\n",
        "3. Attributes are things that describe an object, such as a name. These will vary depending on the object in question\n",
        "4. Methods are things that the object can do. For example, a `string` object has a `replace` method which allows you to replace text within that string\n",
        "5. Each object has a data type that defines how it can be interacted with. For instance, the number `1` is an integer object and can be used with other numeric types and operations"
      ]
    },
    {
      "cell_type": "markdown",
      "metadata": {
        "id": "h7StInO_IHbN"
      },
      "source": [
        "##### ==================================================================================================\n",
        "### Common Types in Python"
      ]
    },
    {
      "cell_type": "markdown",
      "metadata": {
        "id": "qd-3z6c7IHbO"
      },
      "source": [
        "The *type* of an object in any programming language tells a computer what operations are defined for that object and how they are defined."
      ]
    },
    {
      "cell_type": "markdown",
      "metadata": {
        "id": "K7DfaVNcIHbO"
      },
      "source": [
        "##### ==================================================================================================\n",
        "Adding two `int` (integer numbers) would return a integer.\n",
        "\n",
        "Example:"
      ]
    },
    {
      "cell_type": "code",
      "execution_count": null,
      "metadata": {
        "id": "oplFp7lxIHbP",
        "colab": {
          "base_uri": "https://localhost:8080/"
        },
        "outputId": "c873233c-f271-4ef4-d951-9217e429ac8f"
      },
      "outputs": [
        {
          "output_type": "stream",
          "name": "stdout",
          "text": [
            "10\n"
          ]
        }
      ],
      "source": [
        "ten = 5 + 5\n",
        "print(ten)"
      ]
    },
    {
      "cell_type": "markdown",
      "metadata": {
        "id": "ACDG59TUIHbP"
      },
      "source": [
        "##### ==================================================================================================\n",
        "Adding two `float` (numbers with decimals) would return a float.\n",
        "\n",
        "Example:"
      ]
    },
    {
      "cell_type": "code",
      "execution_count": null,
      "metadata": {
        "id": "tAJeT1B9IHbQ",
        "colab": {
          "base_uri": "https://localhost:8080/"
        },
        "outputId": "1829599f-4b66-4a91-900e-e5738768d75c"
      },
      "outputs": [
        {
          "output_type": "stream",
          "name": "stdout",
          "text": [
            "10.0\n"
          ]
        }
      ],
      "source": [
        "also_ten = 5.0 + 5.0\n",
        "print(also_ten)"
      ]
    },
    {
      "cell_type": "markdown",
      "metadata": {
        "id": "IuZnv1LEIHbQ"
      },
      "source": [
        "##### ==================================================================================================\n",
        "The `+` operation concatenates objects, including strings.\n",
        "\n",
        "Adding two `str` (strings - sequence of characters)\n",
        "\n",
        "Example:"
      ]
    },
    {
      "cell_type": "code",
      "execution_count": null,
      "metadata": {
        "id": "Aiw4ZdvYIHbQ",
        "outputId": "0a53034a-07bb-41cd-d109-460c9efc950b",
        "colab": {
          "base_uri": "https://localhost:8080/"
        }
      },
      "outputs": [
        {
          "output_type": "stream",
          "name": "stdout",
          "text": [
            "55\n"
          ]
        }
      ],
      "source": [
        "fifty_five = \"5\" + \"5\"\n",
        "print(fifty_five)"
      ]
    },
    {
      "cell_type": "markdown",
      "metadata": {
        "id": "_FJ5ra0gIHbR"
      },
      "source": [
        "##### ==================================================================================================\n",
        "The built-in function in Python `len` counts and returns the number of elements in a object.\n",
        "\n",
        "Applying `len` to a string.\n",
        "\n",
        "Example:"
      ]
    },
    {
      "cell_type": "code",
      "execution_count": null,
      "metadata": {
        "id": "7_eurzzeIHbR",
        "outputId": "acb81766-5202-49c0-8df3-c3022dc8062f",
        "colab": {
          "base_uri": "https://localhost:8080/"
        }
      },
      "outputs": [
        {
          "output_type": "execute_result",
          "data": {
            "text/plain": [
              "5"
            ]
          },
          "metadata": {},
          "execution_count": 79
        }
      ],
      "source": [
        "len(\"33333\")"
      ]
    },
    {
      "cell_type": "markdown",
      "metadata": {
        "id": "Y3hhOiO3IHbS"
      },
      "source": [
        "##### =================================================================================================="
      ]
    },
    {
      "cell_type": "markdown",
      "metadata": {
        "id": "g08jYl2XIHbS"
      },
      "source": [
        "### Single Elements\n",
        "\n",
        "- **Integer:** Are whole number ranging from negative infinity to infinity, such as `-2`,`-1`,`0`,`1`, `2`, etc.\n",
        "- **Float:** A number with a decimal, such as `1.23482` or `3.0`.\n",
        "- **Boolean:** `True` or `False`."
      ]
    },
    {
      "cell_type": "markdown",
      "metadata": {
        "id": "b8iGkHdkIHbS"
      },
      "source": [
        "### Containers\n",
        "\n",
        "- **Strings:** A sequence of characters: `\"Chris is very handsome\"`\n",
        "- **Lists:** An ordered sequence of objects: `[1, 'love', ['Chris']]`\n",
        "- **Tuples:** Similar to a List but is immutable after it is created, `(1, 'love', ['Chris'])`\n",
        "- **Dictionaries**: A collection of key-value pairs: `{'name': 'Chris Chan', 'gender': Male, 'organization': COOP_Careers}`"
      ]
    },
    {
      "cell_type": "markdown",
      "metadata": {
        "id": "pK6mt4TuIHbS"
      },
      "source": [
        "### Arithmetic Operators"
      ]
    },
    {
      "cell_type": "markdown",
      "metadata": {
        "id": "fvJTkP5oIHbT"
      },
      "source": [
        "Python have symbols called `operators` that perform basic mathematics arithmetic computations"
      ]
    },
    {
      "cell_type": "code",
      "execution_count": null,
      "metadata": {
        "id": "VFbu_gALIHbT",
        "outputId": "51681797-a467-4694-e25f-94e3c6f667bf",
        "colab": {
          "base_uri": "https://localhost:8080/"
        }
      },
      "outputs": [
        {
          "output_type": "stream",
          "name": "stdout",
          "text": [
            "6\n",
            "2\n",
            "8\n",
            "1.0\n",
            "1\n",
            "16\n",
            "0\n"
          ]
        }
      ],
      "source": [
        "print(4 + 2)  #addition\n",
        "print(4 - 2)  #subtraction\n",
        "print(4 * 2)  #multiplication\n",
        "print(4 / 4)  #division\n",
        "print(4 // 4) #floor division / integer division (divides then round down to the nearest integer)\n",
        "print(4 ** 2) #exponent\n",
        "print(4 % 2)  #modulo"
      ]
    },
    {
      "cell_type": "markdown",
      "metadata": {
        "id": "eKOTaB4dvrY0"
      },
      "source": [
        "##### ==================================================================================================\n",
        "### Assignment Operators\n",
        "\n",
        "Python uses a single equal sign (`=`) to assign values to a variable. We can combine the arithmetic operators with the assignment operator as a shortcut when we perform an operation and update a variable."
      ]
    },
    {
      "cell_type": "code",
      "execution_count": null,
      "metadata": {
        "id": "o-xmRGZ9vrY0",
        "outputId": "f6fc6890-e83b-4100-bd3c-290fb458fce2",
        "colab": {
          "base_uri": "https://localhost:8080/"
        }
      },
      "outputs": [
        {
          "output_type": "stream",
          "name": "stdout",
          "text": [
            "10.0\n"
          ]
        }
      ],
      "source": [
        "my_num = 10 # Standard assignment\n",
        "my_num -= 1 # Subtracts 1 from `my_num` and assigns the result back to `my_num`\n",
        "my_num += 1 # Adds 1 to `my_num` and assigns the result back to `my_num`\n",
        "my_num *= 1 # Multiplies the original value in `my_num` by 1 and assigns the result back to `my_num`\n",
        "my_num /= 1 # Divides the original value in `my_num` by 1 and assigns the result back to `my_num`\n",
        "# The above can be done with all the aforementioned arithmetic operators\n",
        "print(my_num)"
      ]
    },
    {
      "cell_type": "code",
      "source": [
        "my_num = 11.6\n",
        "print(my_num)\n",
        "my_num -= 1\n",
        "print(my_num)\n",
        "my_num += 1\n",
        "print(my_num)\n",
        "my_num *= 2 # my_num = my_num * 2\n",
        "print(my_num)\n",
        "my_num //= 2 # my_num = my_num / 2\n",
        "print(my_num)"
      ],
      "metadata": {
        "id": "Wv-oXh5NHZE1",
        "outputId": "867e0f54-471d-4081-9857-f2a697107e03",
        "colab": {
          "base_uri": "https://localhost:8080/"
        }
      },
      "execution_count": null,
      "outputs": [
        {
          "output_type": "stream",
          "name": "stdout",
          "text": [
            "11.6\n",
            "10.6\n",
            "11.6\n",
            "23.2\n",
            "11.0\n"
          ]
        }
      ]
    },
    {
      "cell_type": "markdown",
      "metadata": {
        "id": "qcCxLmAcIHbT"
      },
      "source": [
        "##### ==================================================================================================\n",
        "### Booleans and Logical Operators"
      ]
    },
    {
      "cell_type": "markdown",
      "metadata": {
        "id": "QkRFTOAKIHbU"
      },
      "source": [
        "The result of a Boolean results in two values: `True` and `False`\n",
        "\n",
        "The `assert` statement tests if a condition returns True. If condition returns True, then nothing happens. If condition returns False, AssertionError is raised."
      ]
    },
    {
      "cell_type": "code",
      "source": [
        "1 == 2"
      ],
      "metadata": {
        "id": "lGkYfNo9ITOi",
        "outputId": "d06134d2-879e-497f-f43e-de283aa7f2fc",
        "colab": {
          "base_uri": "https://localhost:8080/"
        }
      },
      "execution_count": null,
      "outputs": [
        {
          "output_type": "execute_result",
          "data": {
            "text/plain": [
              "False"
            ]
          },
          "metadata": {},
          "execution_count": 83
        }
      ]
    },
    {
      "cell_type": "markdown",
      "metadata": {
        "id": "F9OHOyYDIHbU"
      },
      "source": [
        "##### ==================================================================================================\n",
        "### Comparison Operators and Inequalities\n",
        "\n",
        "- Strictly Greater than: `>`\n",
        "- Greater than or equal to: `>=`\n",
        "\n",
        "- Strictly Less than: `<`\n",
        "- Less than or equal to: `<=`\n",
        "\n",
        "- Equal: `==`\n",
        "- Does not equal: `!=`\n",
        "\n",
        "##### ==================================================================================================\n",
        "### Logical Operators\n",
        "\n",
        "- `and`: Are both X and Y statements true?\n",
        "- `or`: Is at least one of the two statements X and Y true?\n",
        "- `not`: Is statement X false?"
      ]
    },
    {
      "cell_type": "code",
      "execution_count": null,
      "metadata": {
        "id": "C3UVOoGVIHbU",
        "colab": {
          "base_uri": "https://localhost:8080/"
        },
        "outputId": "6dafb025-e92a-410f-afd8-f17c87a244db"
      },
      "outputs": [
        {
          "output_type": "execute_result",
          "data": {
            "text/plain": [
              "True"
            ]
          },
          "metadata": {},
          "execution_count": 84
        }
      ],
      "source": [
        "10 > 5"
      ]
    },
    {
      "cell_type": "code",
      "execution_count": null,
      "metadata": {
        "id": "RJF30BiDIHbU",
        "colab": {
          "base_uri": "https://localhost:8080/"
        },
        "outputId": "9120b600-d043-4a29-f634-d1e3ecafb063"
      },
      "outputs": [
        {
          "output_type": "execute_result",
          "data": {
            "text/plain": [
              "False"
            ]
          },
          "metadata": {},
          "execution_count": 85
        }
      ],
      "source": [
        "10 < 5"
      ]
    },
    {
      "cell_type": "code",
      "execution_count": null,
      "metadata": {
        "id": "K53DSrW3IHbV",
        "colab": {
          "base_uri": "https://localhost:8080/"
        },
        "outputId": "c1ee0205-5512-4c0c-9334-1855ce84d2cf"
      },
      "outputs": [
        {
          "output_type": "execute_result",
          "data": {
            "text/plain": [
              "True"
            ]
          },
          "metadata": {},
          "execution_count": 86
        }
      ],
      "source": [
        "10 > 5 and 4 > 1"
      ]
    },
    {
      "cell_type": "code",
      "execution_count": null,
      "metadata": {
        "id": "DWHMvKGqIHbV",
        "colab": {
          "base_uri": "https://localhost:8080/"
        },
        "outputId": "cb086735-8cd3-40ba-a03d-fee25ed1d8b1"
      },
      "outputs": [
        {
          "output_type": "execute_result",
          "data": {
            "text/plain": [
              "False"
            ]
          },
          "metadata": {},
          "execution_count": 87
        }
      ],
      "source": [
        "10 > 5 and 4 < 1"
      ]
    },
    {
      "cell_type": "code",
      "execution_count": null,
      "metadata": {
        "id": "C5nTknTfIHbV",
        "colab": {
          "base_uri": "https://localhost:8080/"
        },
        "outputId": "6d79fb51-fe85-496c-e3e3-b969a39ca0e9"
      },
      "outputs": [
        {
          "output_type": "execute_result",
          "data": {
            "text/plain": [
              "False"
            ]
          },
          "metadata": {},
          "execution_count": 88
        }
      ],
      "source": [
        "10 < 5 or 5 > 10"
      ]
    },
    {
      "cell_type": "code",
      "execution_count": null,
      "metadata": {
        "id": "9B-o7xGpIHbV",
        "colab": {
          "base_uri": "https://localhost:8080/"
        },
        "outputId": "fcc88205-3653-43e7-cb8b-451f7b911e4a"
      },
      "outputs": [
        {
          "output_type": "execute_result",
          "data": {
            "text/plain": [
              "True"
            ]
          },
          "metadata": {},
          "execution_count": 89
        }
      ],
      "source": [
        "not 10 < 5"
      ]
    },
    {
      "cell_type": "markdown",
      "metadata": {
        "id": "bXX1-QuHIHbW"
      },
      "source": [
        "##### ==================================================================================================\n",
        "Notice nothing happens when the statement below is run because the statement is True"
      ]
    },
    {
      "cell_type": "code",
      "execution_count": null,
      "metadata": {
        "id": "kRhn6PW_IHbW"
      },
      "outputs": [],
      "source": [
        "x = 100\n",
        "\n",
        "assert x == 100"
      ]
    },
    {
      "cell_type": "markdown",
      "metadata": {
        "id": "hDbafXD2IHbW"
      },
      "source": [
        "##### ==================================================================================================\n",
        "Notice how a `AssertionError` appeared when the statement is not True when using the `assert` statement."
      ]
    },
    {
      "cell_type": "code",
      "execution_count": null,
      "metadata": {
        "id": "ykq8ZgyYIHbX",
        "colab": {
          "base_uri": "https://localhost:8080/",
          "height": 210
        },
        "outputId": "47d055c2-694a-492f-9c68-525548849bd0"
      },
      "outputs": [
        {
          "output_type": "error",
          "ename": "AssertionError",
          "evalue": "ignored",
          "traceback": [
            "\u001b[0;31m---------------------------------------------------------------------------\u001b[0m",
            "\u001b[0;31mAssertionError\u001b[0m                            Traceback (most recent call last)",
            "\u001b[0;32m<ipython-input-91-e8ee968ed2ff>\u001b[0m in \u001b[0;36m<cell line: 3>\u001b[0;34m()\u001b[0m\n\u001b[1;32m      1\u001b[0m \u001b[0mx\u001b[0m \u001b[0;34m=\u001b[0m \u001b[0;36m100\u001b[0m\u001b[0;34m\u001b[0m\u001b[0;34m\u001b[0m\u001b[0m\n\u001b[1;32m      2\u001b[0m \u001b[0;34m\u001b[0m\u001b[0m\n\u001b[0;32m----> 3\u001b[0;31m \u001b[0;32massert\u001b[0m \u001b[0mx\u001b[0m \u001b[0;34m==\u001b[0m \u001b[0;36m200\u001b[0m\u001b[0;34m,\u001b[0m \u001b[0;34m'x is not 100'\u001b[0m\u001b[0;34m\u001b[0m\u001b[0;34m\u001b[0m\u001b[0m\n\u001b[0m",
            "\u001b[0;31mAssertionError\u001b[0m: x is not 100"
          ]
        }
      ],
      "source": [
        "x = 100\n",
        "\n",
        "assert x == 200, 'x is not 100'"
      ]
    },
    {
      "cell_type": "markdown",
      "metadata": {
        "id": "wR1AWp2jIHbX"
      },
      "source": [
        "##### ==================================================================================================\n",
        "## Strings"
      ]
    },
    {
      "cell_type": "markdown",
      "metadata": {
        "id": "V7fy6CzbIHbX"
      },
      "source": [
        "*String construction*\n",
        "\n",
        "The `type()` function returns us the type of the object\n",
        "\n",
        "Example:"
      ]
    },
    {
      "cell_type": "code",
      "execution_count": null,
      "metadata": {
        "id": "YhGpAeezIHbX"
      },
      "outputs": [],
      "source": [
        "my_string = \"I love COOP Careers\"\n"
      ]
    },
    {
      "cell_type": "markdown",
      "metadata": {
        "id": "lJHUW148IHbX"
      },
      "source": [
        "##### ==================================================================================================\n",
        "The `len()` function returns us the number of elements in the object\n",
        "\n",
        "Example:"
      ]
    },
    {
      "cell_type": "code",
      "execution_count": null,
      "metadata": {
        "id": "7vI1KLphIHbY",
        "colab": {
          "base_uri": "https://localhost:8080/"
        },
        "outputId": "dc4a3cd4-868a-413a-a36b-61d3153178bc"
      },
      "outputs": [
        {
          "output_type": "execute_result",
          "data": {
            "text/plain": [
              "19"
            ]
          },
          "metadata": {},
          "execution_count": 93
        }
      ],
      "source": [
        "len(my_string)"
      ]
    },
    {
      "cell_type": "markdown",
      "metadata": {
        "id": "7_VisV-CIHbY"
      },
      "source": [
        "##### ==================================================================================================\n",
        "*String replacement*\n",
        "\n",
        "`.replace()` is a **method** -- a function that's built into all objects of a given type.\n",
        "\n",
        "Functions (e.g. print, len, and type) and methods (e.g. str.replace) are effectively the same. However methods are defined within a particular class and is called on instances of that class using . followed by a method name.\n",
        "\n",
        "Example:"
      ]
    },
    {
      "cell_type": "code",
      "execution_count": null,
      "metadata": {
        "id": "vqfd2UkFIHbY",
        "colab": {
          "base_uri": "https://localhost:8080/"
        },
        "outputId": "7d28a87a-4509-42cb-99a2-b27f9ef94263"
      },
      "outputs": [
        {
          "output_type": "stream",
          "name": "stdout",
          "text": [
            "I love Chris\n"
          ]
        }
      ],
      "source": [
        "my_string = my_string.replace(\"COOP Careers\", \"Chris\")\n",
        "print(my_string)"
      ]
    },
    {
      "cell_type": "code",
      "source": [
        "len(my_string)"
      ],
      "metadata": {
        "id": "WS24MubOM_lA",
        "colab": {
          "base_uri": "https://localhost:8080/"
        },
        "outputId": "ef371bcb-b02b-4b5d-d1a4-f655a2978aa9"
      },
      "execution_count": null,
      "outputs": [
        {
          "output_type": "execute_result",
          "data": {
            "text/plain": [
              "12"
            ]
          },
          "metadata": {},
          "execution_count": 95
        }
      ]
    },
    {
      "cell_type": "code",
      "source": [
        "my_string"
      ],
      "metadata": {
        "id": "E1J8DOuiNFYn",
        "colab": {
          "base_uri": "https://localhost:8080/",
          "height": 36
        },
        "outputId": "1408f6de-1359-4081-fa10-d9115bb6aaa8"
      },
      "execution_count": null,
      "outputs": [
        {
          "output_type": "execute_result",
          "data": {
            "text/plain": [
              "'I love Chris'"
            ],
            "application/vnd.google.colaboratory.intrinsic+json": {
              "type": "string"
            }
          },
          "metadata": {},
          "execution_count": 96
        }
      ]
    },
    {
      "cell_type": "markdown",
      "metadata": {
        "id": "okL-hG9kIHbY"
      },
      "source": [
        "##### ==================================================================================================\n",
        "## String Indexing\n",
        "\n",
        "Python allows us to extract characters at specific index locations within a string. All index by default start with index 0.\n",
        "\n",
        "Recall `my_string` is now defined as `I love Chris`\n",
        "\n",
        "<img src=\"https://tinyurl.com/jakceks4\" style=\"float: left; margin: 20px; height: 120px\">"
      ]
    },
    {
      "cell_type": "markdown",
      "metadata": {
        "id": "zXNjVr6YIHbY"
      },
      "source": [
        "##### ==================================================================================================\n",
        "*Select the first index character in* `my_string`\n",
        "\n",
        "Example:"
      ]
    },
    {
      "cell_type": "code",
      "execution_count": null,
      "metadata": {
        "id": "32iuXdWLIHbZ",
        "colab": {
          "base_uri": "https://localhost:8080/",
          "height": 36
        },
        "outputId": "fc73c30d-430a-4794-e896-f6f95a561e5a"
      },
      "outputs": [
        {
          "output_type": "execute_result",
          "data": {
            "text/plain": [
              "'I'"
            ],
            "application/vnd.google.colaboratory.intrinsic+json": {
              "type": "string"
            }
          },
          "metadata": {},
          "execution_count": 97
        }
      ],
      "source": [
        "my_string[0]"
      ]
    },
    {
      "cell_type": "markdown",
      "metadata": {
        "id": "k1SFUDPBIHbZ"
      },
      "source": [
        "*Select the fifth index character in* `my_string`"
      ]
    },
    {
      "cell_type": "code",
      "execution_count": null,
      "metadata": {
        "id": "I-0dKeTkIHbZ",
        "colab": {
          "base_uri": "https://localhost:8080/",
          "height": 36
        },
        "outputId": "f94e6ef6-6007-41ca-ecae-7bea013a7f1b"
      },
      "outputs": [
        {
          "output_type": "execute_result",
          "data": {
            "text/plain": [
              "'v'"
            ],
            "application/vnd.google.colaboratory.intrinsic+json": {
              "type": "string"
            }
          },
          "metadata": {},
          "execution_count": 98
        }
      ],
      "source": [
        "my_string[4]"
      ]
    },
    {
      "cell_type": "markdown",
      "metadata": {
        "id": "lz8-cYFVIHbZ"
      },
      "source": [
        "##### ==================================================================================================\n",
        "\"Slicing: is a process by which you may pass a range of index values to select multiple elements in a string. In general, slicing in Python is inclusive on the left and exclusive on the right. In mathematics think of a interval from `[a,b)`. the general format for slicing a string is `x[start:end]` such that `x` represents the string\n",
        "\n",
        "Example:"
      ]
    },
    {
      "cell_type": "code",
      "execution_count": null,
      "metadata": {
        "id": "WFuENyjNIHbZ",
        "colab": {
          "base_uri": "https://localhost:8080/",
          "height": 36
        },
        "outputId": "7936c1bc-d511-4982-aec3-db9404ab61df"
      },
      "outputs": [
        {
          "output_type": "execute_result",
          "data": {
            "text/plain": [
              "'I love Ch'"
            ],
            "application/vnd.google.colaboratory.intrinsic+json": {
              "type": "string"
            }
          },
          "metadata": {},
          "execution_count": 99
        }
      ],
      "source": [
        "my_string[0:9]"
      ]
    },
    {
      "cell_type": "markdown",
      "metadata": {
        "id": "BLara2qoIHba"
      },
      "source": [
        "Example:"
      ]
    },
    {
      "cell_type": "code",
      "execution_count": null,
      "metadata": {
        "id": "_PFYogCJIHba",
        "colab": {
          "base_uri": "https://localhost:8080/",
          "height": 36
        },
        "outputId": "6658ab9e-dd61-441f-eb6d-5ed2bcdd39eb"
      },
      "outputs": [
        {
          "output_type": "execute_result",
          "data": {
            "text/plain": [
              "'ove Chr'"
            ],
            "application/vnd.google.colaboratory.intrinsic+json": {
              "type": "string"
            }
          },
          "metadata": {},
          "execution_count": 100
        }
      ],
      "source": [
        "my_string[3:10]"
      ]
    },
    {
      "cell_type": "markdown",
      "metadata": {
        "id": "cQxL83VsIHba"
      },
      "source": [
        "##### ==================================================================================================\n",
        "You may also control the increments of your slices (default is 1) by adding on one extra component to the general format `x[start:end:step]`\n",
        "\n",
        "*Slice every third character starting at 0 and ending at 12. Remember spaces count as a character*\n",
        "\n",
        "Example:"
      ]
    },
    {
      "cell_type": "code",
      "execution_count": null,
      "metadata": {
        "id": "WjE3Op-FIHba",
        "colab": {
          "base_uri": "https://localhost:8080/",
          "height": 36
        },
        "outputId": "d3ae580a-eb18-41d6-ff28-0d1a0a1cc91a"
      },
      "outputs": [
        {
          "output_type": "execute_result",
          "data": {
            "text/plain": [
              "'Ilv hi'"
            ],
            "application/vnd.google.colaboratory.intrinsic+json": {
              "type": "string"
            }
          },
          "metadata": {},
          "execution_count": 101
        }
      ],
      "source": [
        "my_string[0:12:2]"
      ]
    },
    {
      "cell_type": "markdown",
      "metadata": {
        "id": "VN8ceINFIHba"
      },
      "source": [
        "##### ==================================================================================================\n",
        "*Reversing string `my_string`*\n",
        "\n",
        "Example:"
      ]
    },
    {
      "cell_type": "code",
      "execution_count": null,
      "metadata": {
        "id": "I1CzcIDcIHba",
        "colab": {
          "base_uri": "https://localhost:8080/",
          "height": 36
        },
        "outputId": "eacfac29-a9b7-418c-f42d-41ecb919f7eb"
      },
      "outputs": [
        {
          "output_type": "execute_result",
          "data": {
            "text/plain": [
              "'sirhC evol I'"
            ],
            "application/vnd.google.colaboratory.intrinsic+json": {
              "type": "string"
            }
          },
          "metadata": {},
          "execution_count": 102
        }
      ],
      "source": [
        "my_string[\n",
        "\n",
        "          ::-1]\n"
      ]
    },
    {
      "cell_type": "markdown",
      "metadata": {
        "id": "xvbLkKhMIHbb"
      },
      "source": [
        "##### ==================================================================================================\n",
        "*Select the last character in the string `my_string`*\n",
        "\n",
        "Example:"
      ]
    },
    {
      "cell_type": "markdown",
      "metadata": {
        "id": "VWMmdj6zIHbb"
      },
      "source": [
        "##### ==================================================================================================\n",
        "### Lists\n",
        "\n",
        "A `list` is a mutable sequence of objects in Python that may contain any combination of types\n",
        "\n",
        "<b>WARNING:</b> Using `list` as a variable name will overwrite the built-in Python function. `list = [0,1,2,3,4,5]`. <b>Do not do this!</b>"
      ]
    },
    {
      "cell_type": "markdown",
      "metadata": {
        "id": "5MyXqkPjIHbc"
      },
      "source": [
        "##### ==================================================================================================\n",
        "Creating a sample list\n",
        "\n",
        "Example:"
      ]
    },
    {
      "cell_type": "code",
      "execution_count": null,
      "metadata": {
        "id": "35EI2Id-IHbc",
        "colab": {
          "base_uri": "https://localhost:8080/"
        },
        "outputId": "6514bea0-ed8a-41f7-c78c-eae6bc90acea"
      },
      "outputs": [
        {
          "output_type": "stream",
          "name": "stdout",
          "text": [
            "['apple', 'orange', 'grape', 'pineapple', 'cherry', 'lemon']\n"
          ]
        }
      ],
      "source": [
        "my_list = [\"apple\",\"orange\",\"grape\",\"pineapple\",\"cherry\",\"lemon\"]\n",
        "print(my_list)"
      ]
    },
    {
      "cell_type": "markdown",
      "metadata": {
        "id": "ir8IB5zWIHbc"
      },
      "source": [
        "##### ==================================================================================================\n",
        "Recall `list` are mutable so you may modify them as you like\n",
        "\n",
        "Example:"
      ]
    },
    {
      "cell_type": "code",
      "execution_count": null,
      "metadata": {
        "id": "r0vEyDv7IHbc",
        "colab": {
          "base_uri": "https://localhost:8080/"
        },
        "outputId": "01daa3fd-40b1-4e29-bd9a-9bff81ac56b7"
      },
      "outputs": [
        {
          "output_type": "stream",
          "name": "stdout",
          "text": [
            "['apple', 'orange', 'grape', 'RED', 'cherry', 'lemon']\n"
          ]
        }
      ],
      "source": [
        "my_list[3] = \"RED\"\n",
        "print(my_list)\n"
      ]
    },
    {
      "cell_type": "markdown",
      "metadata": {
        "id": "vGkqIm3XIHbc"
      },
      "source": [
        "##### ==================================================================================================\n",
        "*Adding new item to the list via append*\n",
        "\n",
        "Example:"
      ]
    },
    {
      "cell_type": "code",
      "execution_count": null,
      "metadata": {
        "id": "xLdNHwaGIHbc",
        "colab": {
          "base_uri": "https://localhost:8080/"
        },
        "outputId": "6a1b566e-0317-4d3c-f399-a4161972b16e"
      },
      "outputs": [
        {
          "output_type": "stream",
          "name": "stdout",
          "text": [
            "['apple', 'orange', 'grape', 'RED', 'cherry', 'lemon', 'BLUE']\n"
          ]
        }
      ],
      "source": [
        "my_list.append(\"BLUE\")\n",
        "print(my_list)"
      ]
    },
    {
      "cell_type": "markdown",
      "metadata": {
        "id": "ZC_z_U2eIHbd"
      },
      "source": [
        "##### ==================================================================================================\n",
        "### Tuples\n",
        "\n",
        "A `tuple` is a sequence of objects may contain any combination of types which is ordered and immutable.\n",
        "\n",
        "Example:"
      ]
    },
    {
      "cell_type": "code",
      "execution_count": null,
      "metadata": {
        "id": "_Vgg4Or7IHbd",
        "colab": {
          "base_uri": "https://localhost:8080/"
        },
        "outputId": "f5b2da1f-09f9-4ee0-a8d2-2ec535af2af0"
      },
      "outputs": [
        {
          "output_type": "stream",
          "name": "stdout",
          "text": [
            "(0, 1, 3, 4, 5)\n"
          ]
        }
      ],
      "source": [
        "my_tuple = (0,1,3,4,5)\n",
        "print(my_tuple)\n"
      ]
    },
    {
      "cell_type": "code",
      "source": [
        "type(my_tuple[2])"
      ],
      "metadata": {
        "id": "B1ROYZaGYBbG",
        "colab": {
          "base_uri": "https://localhost:8080/"
        },
        "outputId": "1660cc6b-64ff-4724-b82d-bfea2310815d"
      },
      "execution_count": null,
      "outputs": [
        {
          "output_type": "execute_result",
          "data": {
            "text/plain": [
              "int"
            ]
          },
          "metadata": {},
          "execution_count": 107
        }
      ]
    },
    {
      "cell_type": "markdown",
      "metadata": {
        "id": "J0QZ9hiQIHbd"
      },
      "source": [
        "##### ==================================================================================================\n",
        "*Slice tuple from index 2 to 5*\n",
        "\n",
        "Example:"
      ]
    },
    {
      "cell_type": "code",
      "execution_count": null,
      "metadata": {
        "id": "Ftrxx533IHbd",
        "colab": {
          "base_uri": "https://localhost:8080/"
        },
        "outputId": "a4691809-4545-4bff-eaab-d5d9adbffb33"
      },
      "outputs": [
        {
          "output_type": "stream",
          "name": "stdout",
          "text": [
            "(3, 4, 5)\n"
          ]
        }
      ],
      "source": [
        "print(my_tuple[2:5])"
      ]
    },
    {
      "cell_type": "markdown",
      "metadata": {
        "id": "k75poPS0IHbd"
      },
      "source": [
        "##### ==================================================================================================\n",
        "### Range\n",
        "\n",
        "The `range` function  can be used to create a sequence of numbers. The order of arguments is start, stop, step, just like in slicing.\n",
        "##### ==================================================================================================\n",
        "*Creating a sequence of numbers from  0 to 10 `range` function*\n",
        "\n",
        "Example:"
      ]
    },
    {
      "cell_type": "code",
      "execution_count": null,
      "metadata": {
        "id": "qrHEYgxhIHbe",
        "colab": {
          "base_uri": "https://localhost:8080/"
        },
        "outputId": "b868578f-e252-4f11-cf78-63a177cce21f"
      },
      "outputs": [
        {
          "output_type": "execute_result",
          "data": {
            "text/plain": [
              "[0, 1, 2, 3, 4, 5, 6, 7, 8, 9]"
            ]
          },
          "metadata": {},
          "execution_count": 109
        }
      ],
      "source": [
        "list(range(0, 10))"
      ]
    },
    {
      "cell_type": "markdown",
      "metadata": {
        "id": "2XYAOTDRIHbe"
      },
      "source": [
        "##### ==================================================================================================\n",
        "*Creating a sequence of numbers from 1 to 10, incrementing by 2 using `range` function*\n",
        "\n",
        "Example:"
      ]
    },
    {
      "cell_type": "code",
      "execution_count": null,
      "metadata": {
        "id": "06sGV-ybIHbe",
        "colab": {
          "base_uri": "https://localhost:8080/"
        },
        "outputId": "e45ee02a-6bd0-4c4f-a329-b0b507b9e2ff"
      },
      "outputs": [
        {
          "output_type": "execute_result",
          "data": {
            "text/plain": [
              "[0, 2, 4, 6, 8]"
            ]
          },
          "metadata": {},
          "execution_count": 110
        }
      ],
      "source": [
        "list(range(0, 10, 2))"
      ]
    },
    {
      "cell_type": "markdown",
      "metadata": {
        "id": "uecfeLKKIHbe"
      },
      "source": [
        "Example:"
      ]
    },
    {
      "cell_type": "code",
      "execution_count": null,
      "metadata": {
        "id": "loKi38rRIHbe",
        "colab": {
          "base_uri": "https://localhost:8080/"
        },
        "outputId": "33795803-4b01-42ad-9277-c378fb5a4193"
      },
      "outputs": [
        {
          "output_type": "execute_result",
          "data": {
            "text/plain": [
              "[0, 2, 4, 6, 8]"
            ]
          },
          "metadata": {},
          "execution_count": 111
        }
      ],
      "source": [
        "list(range(0, 9, 2))"
      ]
    },
    {
      "cell_type": "markdown",
      "metadata": {
        "id": "4vemU5oNIHbe"
      },
      "source": [
        "##### ==================================================================================================\n",
        "### Dictionaries\n",
        "\n",
        "A `Dictionary` is an ordered collection of key-value pairs, where the key indicates the location of some data and the value is the data that a key points to. They are mutable, but do not allow duplicate keys.\n",
        "##### =================================================================================================="
      ]
    },
    {
      "cell_type": "markdown",
      "metadata": {
        "id": "xK9wG6S-IHbf"
      },
      "source": [
        "*Creating a dictionary that maps the first name, last name and gender of the individual*"
      ]
    },
    {
      "cell_type": "code",
      "execution_count": null,
      "metadata": {
        "id": "KXboDZtRIHbf",
        "colab": {
          "base_uri": "https://localhost:8080/"
        },
        "outputId": "dd698ce1-29af-47b1-8742-287178e854d7"
      },
      "outputs": [
        {
          "output_type": "stream",
          "name": "stdout",
          "text": [
            "dict_values(['Chris', 'Chan', 'Male'])\n",
            "dict_keys(['first_name', 'last_name', 'gender'])\n",
            "Chris\n",
            "Chan\n",
            "Male\n"
          ]
        }
      ],
      "source": [
        "my_dict = {\"first_name\": \"Chris\", \"last_name\": \"Chan\", \"gender\": \"Male\"}\n",
        "#talk about working with dictionaries; should tell design taem to add the values/keys methods\n",
        "print(my_dict.values())\n",
        "print(my_dict.keys())\n",
        "\n",
        "print(my_dict[\"first_name\"])\n",
        "print(my_dict[\"last_name\"])\n",
        "print(my_dict[\"gender\"])"
      ]
    },
    {
      "cell_type": "markdown",
      "metadata": {
        "id": "mAHwTjbBIHbf"
      },
      "source": [
        "##### ==================================================================================================\n",
        "*Add an entry for \"height\" of the individual*\n",
        "\n",
        "Example:"
      ]
    },
    {
      "cell_type": "code",
      "execution_count": null,
      "metadata": {
        "id": "wEA1x2hMIHbf",
        "colab": {
          "base_uri": "https://localhost:8080/"
        },
        "outputId": "3ade450e-b012-4bbf-daf2-c367d8225a7a"
      },
      "outputs": [
        {
          "output_type": "stream",
          "name": "stdout",
          "text": [
            "Chris\n",
            "Chan\n",
            "Male\n",
            "173\n"
          ]
        }
      ],
      "source": [
        "my_dict[\"height_cm\"] = 173\n",
        "print(my_dict[\"first_name\"])\n",
        "print(my_dict[\"last_name\"])\n",
        "print(my_dict[\"gender\"])\n",
        "print(my_dict[\"height_cm\"])"
      ]
    },
    {
      "cell_type": "markdown",
      "metadata": {
        "id": "W1bpxRzUIHbf"
      },
      "source": [
        "##### ==================================================================================================\n",
        "### Summary\n",
        "- Python has the following built-in types (among others):\n",
        "    - Single-element:\n",
        "        - `int` whole numbers\n",
        "        - `float` decimal numbers\n",
        "        - `bool` `True` or `False`\n",
        "        \n",
        "    - Container:\n",
        "        - `str` for sequences of characters\n",
        "        - `list` for holding arbitrary objects and is mutable\n",
        "        - `tuple` for holding arbitrary objects but is immutable\n",
        "        - `dict` for storing arbitrary objects in key:value pairs\n",
        "        \n",
        "- Ordered container types such as `str`, `list`, and `tuple` allow you to select items by position.\n",
        "- The built-in `range` function returns a sequence of numbers, starting from 0 by default, and increments by 1 (by default), and stops before a specified number.\n",
        "- Python has built-in functions such as `len` that take in object and returns the number of items in an object.\n",
        "- Python types have built-in methods such as `str.replace`, replaces a specified phrase with another specified phrase."
      ]
    },
    {
      "cell_type": "markdown",
      "metadata": {
        "id": "zfclQ__AIHbg"
      },
      "source": [
        "##### ==================================================================================================\n",
        "### Exercise 1:\n",
        "\n",
        "Assign any `int` value to a variable we call `x`. Then use the `assignment operators` to reassign the value of `x` by carrying out the following steps:\n",
        "\n",
        "1. Double the variable `x`\n",
        "2. Add 6 to the variable `x`\n",
        "3. Divide the variable `x` by 2\n",
        "4. Subtract your initial value from `x`\n",
        "5. Use the `assert` function in python to establish that x == 3 (An error will occur if an error is made)"
      ]
    },
    {
      "cell_type": "code",
      "execution_count": null,
      "metadata": {
        "id": "fBIP5QiWIHbg",
        "colab": {
          "base_uri": "https://localhost:8080/"
        },
        "outputId": "3ef85c60-d46b-466f-8acb-f170ce9d7786"
      },
      "outputs": [
        {
          "output_type": "stream",
          "name": "stdout",
          "text": [
            "3.0\n"
          ]
        }
      ],
      "source": [
        "# Write your solution here\n",
        "# Assign an initial value to x\n",
        "x = 2  # You can choose any integer as your initial value\n",
        "\n",
        "# Perform the operations\n",
        "x *= 2   # Double the variable x\n",
        "x += 6   # Add 6 to the variable x\n",
        "x /= 2   # Divide the variable x by 2\n",
        "x -= 2   # Subtract your initial value from x\n",
        "\n",
        "# Use the assert function to check if x equals 3\n",
        "print(x)\n",
        "assert x == 3\n"
      ]
    },
    {
      "cell_type": "markdown",
      "metadata": {
        "id": "0xuxw0XPIHbg"
      },
      "source": [
        "##### ==================================================================================================\n",
        "### Exercise 2:\n",
        "\n",
        "Create a string called `my_name` that contains the letters of your first name in all lower case letters"
      ]
    },
    {
      "cell_type": "code",
      "execution_count": null,
      "metadata": {
        "id": "AeWB0mv4IHbg"
      },
      "outputs": [],
      "source": [
        "# Write your solution here\n",
        "my_name = \"Derik\""
      ]
    },
    {
      "cell_type": "markdown",
      "metadata": {
        "id": "z1Z5wYYiIHbh"
      },
      "source": [
        "Create another string called `my_intro` that that contains the sentence `\"hello my job is \"` in all lower case letters"
      ]
    },
    {
      "cell_type": "code",
      "execution_count": null,
      "metadata": {
        "id": "HZZaDtFvIHbh"
      },
      "outputs": [],
      "source": [
        "# Write your solution here\n",
        "my_intro = \"hello my job is \""
      ]
    },
    {
      "cell_type": "markdown",
      "metadata": {
        "id": "ErjwHDmDIHbh"
      },
      "source": [
        "Reassign the string `my_intro` and use the `.replace` function to replace the word `\"job\"` with `\"name\"`"
      ]
    },
    {
      "cell_type": "code",
      "execution_count": null,
      "metadata": {
        "id": "J9exauBzIHbh",
        "colab": {
          "base_uri": "https://localhost:8080/"
        },
        "outputId": "594d0cb1-011e-4b45-f104-752804598a61"
      },
      "outputs": [
        {
          "output_type": "stream",
          "name": "stdout",
          "text": [
            "Hello My Name Is \n"
          ]
        }
      ],
      "source": [
        "# Write your solution here\n",
        "\n",
        "my_intro = \"hello my job is \"\n",
        "my_intro = my_intro.replace(\"job\", \"name\")\n",
        "print(my_intro.title())"
      ]
    },
    {
      "cell_type": "markdown",
      "metadata": {
        "id": "ajdB4j53IHbh"
      },
      "source": [
        "Use the addition `+` operator to concate the string `my_intro` followed by `my_name`. Be sure to utilize proper spacing with `\" \"` when needed"
      ]
    },
    {
      "cell_type": "code",
      "execution_count": null,
      "metadata": {
        "id": "YMuq5rm_IHbi",
        "colab": {
          "base_uri": "https://localhost:8080/",
          "height": 36
        },
        "outputId": "a90d422b-b30c-4493-a18d-4169fca13053"
      },
      "outputs": [
        {
          "output_type": "execute_result",
          "data": {
            "text/plain": [
              "'Hello My Name Is Derik'"
            ],
            "application/vnd.google.colaboratory.intrinsic+json": {
              "type": "string"
            }
          },
          "metadata": {},
          "execution_count": 118
        }
      ],
      "source": [
        "# Write your solution here\n",
        "my_intro.title() + my_name"
      ]
    },
    {
      "cell_type": "markdown",
      "metadata": {
        "id": "16IJOqmvIHbi"
      },
      "source": [
        "##### ==================================================================================================\n",
        "### Exercise 3:\n",
        "\n",
        "Create a string called `your_slice` that contains the letters `\"thisiswhycoopisthebest\"`. Then slice the string `your_slice` to obtain the letters `coop` as an output"
      ]
    },
    {
      "cell_type": "code",
      "execution_count": null,
      "metadata": {
        "id": "0NacFMVSIHbi",
        "colab": {
          "base_uri": "https://localhost:8080/"
        },
        "outputId": "a72475b5-71f9-48f9-ed11-c3220e303ada"
      },
      "outputs": [
        {
          "output_type": "stream",
          "name": "stdout",
          "text": [
            "coop\n"
          ]
        }
      ],
      "source": [
        "# Write your solution here\n",
        "# Create the string your_slice\n",
        "your_slice = \"thisiswhycoopisthebest\"\n",
        "\n",
        "# Slice the string to obtain \"coop\"\n",
        "result = your_slice[9:13]\n",
        "\n",
        "# Print the result\n",
        "print(result)\n"
      ]
    },
    {
      "cell_type": "code",
      "source": [
        "\"\"\"\n",
        "This section was created by Derik Vo to give a preview on functions and how to combine everything we learned,\n",
        "and will learn in the next few sections.\n",
        "\n",
        "\"\"\"\n",
        "#creats a \"function\" called substrindx\n",
        "def substrindx(sub):\n",
        "    #lower case input, so it patches our slice\n",
        "    sub = sub.lower()\n",
        "  #assert to determine if our input is a string\n",
        "    assert isinstance(sub, str), f'{sub} is a {type(sub)} is not a string'\n",
        "    #have a string to compare against (ideally should also be an input)\n",
        "    your_slice = \"thisiswhycoopisthebest\"\n",
        "    #finds the index of our input\n",
        "    index = your_slice.rfind(sub)\n",
        "  #determind if our input (sub) was found in the string, will return -1 if false\n",
        "    if index != -1:\n",
        "      #finds the index of the last latter of our input, need to subtract 1 from last_letter_index for actual postion because the splce is exlusive, so we needed 13 to include it\n",
        "        last_letter_index = index + len(sub)-1\n",
        "        print(f\"Substring '{sub}' found at index {index}. Last letter index: {last_letter_index}\")\n",
        "    else:\n",
        "        print(f\"Substring '{sub}' not found in the string.\")"
      ],
      "metadata": {
        "id": "Q25JAsXwZCuB"
      },
      "execution_count": 160,
      "outputs": []
    },
    {
      "cell_type": "code",
      "source": [
        "substrindx('cOop')"
      ],
      "metadata": {
        "id": "4-qfxMnCaC5F",
        "colab": {
          "base_uri": "https://localhost:8080/"
        },
        "outputId": "d1b27ca9-4e3f-489d-ee12-66e033e9dea3"
      },
      "execution_count": 162,
      "outputs": [
        {
          "output_type": "stream",
          "name": "stdout",
          "text": [
            "Substring 'coop' found at index 9. Last letter index: 12\n"
          ]
        }
      ]
    },
    {
      "cell_type": "markdown",
      "metadata": {
        "id": "5lo_FcsBIHbi"
      },
      "source": [
        "##### ==================================================================================================\n",
        "### Exercise 4:\n",
        "\n",
        "Create a list called `my_list` that contains the integers 1,2,3,4,5. Then append the string `six` to `my_list`"
      ]
    },
    {
      "cell_type": "code",
      "execution_count": null,
      "metadata": {
        "id": "gN7NOpwFIHbi",
        "colab": {
          "base_uri": "https://localhost:8080/"
        },
        "outputId": "71deebaf-c6a1-4490-8026-7c185223f7b4"
      },
      "outputs": [
        {
          "output_type": "stream",
          "name": "stdout",
          "text": [
            "[1, 2, 3, 4, 5, 'six']\n"
          ]
        }
      ],
      "source": [
        "# Write your solution here\n",
        "# Create the list my_list with integers 1 through 5\n",
        "my_list = [1, 2, 3, 4, 5]\n",
        "\n",
        "# Append the string \"six\" to my_list\n",
        "my_list.append(\"six\")\n",
        "\n",
        "# Print the updated list\n",
        "print(my_list)"
      ]
    }
  ],
  "metadata": {
    "colab": {
      "provenance": [],
      "toc_visible": true,
      "include_colab_link": true
    },
    "kernelspec": {
      "display_name": "Python 3",
      "language": "python",
      "name": "python3"
    },
    "language_info": {
      "codemirror_mode": {
        "name": "ipython",
        "version": 3
      },
      "file_extension": ".py",
      "mimetype": "text/x-python",
      "name": "python",
      "nbconvert_exporter": "python",
      "pygments_lexer": "ipython3",
      "version": "3.8.5"
    }
  },
  "nbformat": 4,
  "nbformat_minor": 0
}